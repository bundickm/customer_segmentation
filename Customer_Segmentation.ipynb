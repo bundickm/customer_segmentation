{
  "nbformat": 4,
  "nbformat_minor": 0,
  "metadata": {
    "orig_nbformat": 2,
    "file_extension": ".py",
    "mimetype": "text/x-python",
    "name": "python",
    "npconvert_exporter": "python",
    "pygments_lexer": "ipython3",
    "version": 3,
    "colab": {
      "name": "Customer Segmentation.ipynb",
      "provenance": [],
      "include_colab_link": true
    },
    "kernelspec": {
      "name": "python3",
      "display_name": "Python 3"
    }
  },
  "cells": [
    {
      "cell_type": "markdown",
      "metadata": {
        "id": "view-in-github",
        "colab_type": "text"
      },
      "source": [
        "<a href=\"https://colab.research.google.com/github/bundickm/customer_segmentation/blob/main/Customer_Segmentation.ipynb\" target=\"_parent\"><img src=\"https://colab.research.google.com/assets/colab-badge.svg\" alt=\"Open In Colab\"/></a>"
      ]
    },
    {
      "cell_type": "markdown",
      "metadata": {
        "id": "rVomGe65Ze1q"
      },
      "source": [
        "# Customer Segmentation"
      ]
    },
    {
      "cell_type": "markdown",
      "metadata": {
        "id": "1x3u4RwhNHkR"
      },
      "source": [
        "# Initial Setup and Exploration"
      ]
    },
    {
      "cell_type": "code",
      "metadata": {
        "id": "2z2PB3eS6XwP"
      },
      "source": [
        "import numpy as np\n",
        "import pandas as pd\n",
        "import matplotlib.pyplot as plt\n",
        "from sklearn.preprocessing import StandardScaler\n",
        "from sklearn.cluster import KMeans\n",
        "import seaborn as sns\n",
        "import datetime as dt\n",
        "import warnings\n",
        "\n",
        "warnings.filterwarnings('ignore')\n",
        "pd.set_option('display.max_columns', None)"
      ],
      "execution_count": 4,
      "outputs": []
    },
    {
      "cell_type": "code",
      "metadata": {
        "id": "kX4vQZzE6Xwb",
        "colab": {
          "base_uri": "https://localhost:8080/"
        },
        "outputId": "fff49ad1-edec-4404-c1f7-ef07983acea1"
      },
      "source": [
        "url = 'https://raw.githubusercontent.com/bundickm/customer_segmentation/main/sales_data.csv'\n",
        "df = pd.read_csv(url, encoding='unicode_escape')\n",
        "df.shape"
      ],
      "execution_count": 5,
      "outputs": [
        {
          "output_type": "execute_result",
          "data": {
            "text/plain": [
              "(2823, 26)"
            ]
          },
          "metadata": {
            "tags": []
          },
          "execution_count": 5
        }
      ]
    },
    {
      "cell_type": "code",
      "metadata": {
        "id": "mkYH6sbp6Xwm",
        "colab": {
          "base_uri": "https://localhost:8080/",
          "height": 339
        },
        "outputId": "b1e04b25-5383-4b9c-f5dd-64e73d611239"
      },
      "source": [
        "df.head()"
      ],
      "execution_count": 6,
      "outputs": [
        {
          "output_type": "execute_result",
          "data": {
            "text/html": [
              "<div>\n",
              "<style scoped>\n",
              "    .dataframe tbody tr th:only-of-type {\n",
              "        vertical-align: middle;\n",
              "    }\n",
              "\n",
              "    .dataframe tbody tr th {\n",
              "        vertical-align: top;\n",
              "    }\n",
              "\n",
              "    .dataframe thead th {\n",
              "        text-align: right;\n",
              "    }\n",
              "</style>\n",
              "<table border=\"1\" class=\"dataframe\">\n",
              "  <thead>\n",
              "    <tr style=\"text-align: right;\">\n",
              "      <th></th>\n",
              "      <th>Unnamed: 0</th>\n",
              "      <th>ORDERNUMBER</th>\n",
              "      <th>QUANTITYORDERED</th>\n",
              "      <th>PRICEEACH</th>\n",
              "      <th>ORDERLINENUMBER</th>\n",
              "      <th>SALES</th>\n",
              "      <th>ORDERDATE</th>\n",
              "      <th>STATUS</th>\n",
              "      <th>QTR_ID</th>\n",
              "      <th>MONTH_ID</th>\n",
              "      <th>YEAR_ID</th>\n",
              "      <th>PRODUCTLINE</th>\n",
              "      <th>MSRP</th>\n",
              "      <th>PRODUCTCODE</th>\n",
              "      <th>CUSTOMERNAME</th>\n",
              "      <th>PHONE</th>\n",
              "      <th>ADDRESSLINE1</th>\n",
              "      <th>ADDRESSLINE2</th>\n",
              "      <th>CITY</th>\n",
              "      <th>STATE</th>\n",
              "      <th>POSTALCODE</th>\n",
              "      <th>COUNTRY</th>\n",
              "      <th>TERRITORY</th>\n",
              "      <th>CONTACTLASTNAME</th>\n",
              "      <th>CONTACTFIRSTNAME</th>\n",
              "      <th>DEALSIZE</th>\n",
              "    </tr>\n",
              "  </thead>\n",
              "  <tbody>\n",
              "    <tr>\n",
              "      <th>0</th>\n",
              "      <td>0</td>\n",
              "      <td>10107</td>\n",
              "      <td>30</td>\n",
              "      <td>95.70</td>\n",
              "      <td>2</td>\n",
              "      <td>2871.00</td>\n",
              "      <td>2/24/2003 0:00</td>\n",
              "      <td>Shipped</td>\n",
              "      <td>1</td>\n",
              "      <td>2</td>\n",
              "      <td>2003</td>\n",
              "      <td>Motorcycles</td>\n",
              "      <td>95</td>\n",
              "      <td>S10_1678</td>\n",
              "      <td>Land of Toys Inc.</td>\n",
              "      <td>2125557818</td>\n",
              "      <td>897 Long Airport Avenue</td>\n",
              "      <td>NaN</td>\n",
              "      <td>NYC</td>\n",
              "      <td>NY</td>\n",
              "      <td>10022</td>\n",
              "      <td>USA</td>\n",
              "      <td>NaN</td>\n",
              "      <td>Yu</td>\n",
              "      <td>Kwai</td>\n",
              "      <td>Small</td>\n",
              "    </tr>\n",
              "    <tr>\n",
              "      <th>1</th>\n",
              "      <td>1</td>\n",
              "      <td>10121</td>\n",
              "      <td>34</td>\n",
              "      <td>81.35</td>\n",
              "      <td>5</td>\n",
              "      <td>2765.90</td>\n",
              "      <td>5/7/2003 0:00</td>\n",
              "      <td>Shipped</td>\n",
              "      <td>2</td>\n",
              "      <td>5</td>\n",
              "      <td>2003</td>\n",
              "      <td>Motorcycles</td>\n",
              "      <td>95</td>\n",
              "      <td>S10_1678</td>\n",
              "      <td>Reims Collectables</td>\n",
              "      <td>26.47.1555</td>\n",
              "      <td>59 rue de l'Abbaye</td>\n",
              "      <td>NaN</td>\n",
              "      <td>Reims</td>\n",
              "      <td>NaN</td>\n",
              "      <td>51100</td>\n",
              "      <td>France</td>\n",
              "      <td>EMEA</td>\n",
              "      <td>Henriot</td>\n",
              "      <td>Paul</td>\n",
              "      <td>Small</td>\n",
              "    </tr>\n",
              "    <tr>\n",
              "      <th>2</th>\n",
              "      <td>2</td>\n",
              "      <td>10134</td>\n",
              "      <td>41</td>\n",
              "      <td>94.74</td>\n",
              "      <td>2</td>\n",
              "      <td>3884.34</td>\n",
              "      <td>7/1/2003 0:00</td>\n",
              "      <td>Shipped</td>\n",
              "      <td>3</td>\n",
              "      <td>7</td>\n",
              "      <td>2003</td>\n",
              "      <td>Motorcycles</td>\n",
              "      <td>95</td>\n",
              "      <td>S10_1678</td>\n",
              "      <td>Lyon Souveniers</td>\n",
              "      <td>+33 1 46 62 7555</td>\n",
              "      <td>27 rue du Colonel Pierre Avia</td>\n",
              "      <td>NaN</td>\n",
              "      <td>Paris</td>\n",
              "      <td>NaN</td>\n",
              "      <td>75508</td>\n",
              "      <td>France</td>\n",
              "      <td>EMEA</td>\n",
              "      <td>Da Cunha</td>\n",
              "      <td>Daniel</td>\n",
              "      <td>Medium</td>\n",
              "    </tr>\n",
              "    <tr>\n",
              "      <th>3</th>\n",
              "      <td>3</td>\n",
              "      <td>10145</td>\n",
              "      <td>45</td>\n",
              "      <td>83.26</td>\n",
              "      <td>6</td>\n",
              "      <td>3746.70</td>\n",
              "      <td>8/25/2003 0:00</td>\n",
              "      <td>Shipped</td>\n",
              "      <td>3</td>\n",
              "      <td>8</td>\n",
              "      <td>2003</td>\n",
              "      <td>Motorcycles</td>\n",
              "      <td>95</td>\n",
              "      <td>S10_1678</td>\n",
              "      <td>Toys4GrownUps.com</td>\n",
              "      <td>6265557265</td>\n",
              "      <td>78934 Hillside Dr.</td>\n",
              "      <td>NaN</td>\n",
              "      <td>Pasadena</td>\n",
              "      <td>CA</td>\n",
              "      <td>90003</td>\n",
              "      <td>USA</td>\n",
              "      <td>NaN</td>\n",
              "      <td>Young</td>\n",
              "      <td>Julie</td>\n",
              "      <td>Medium</td>\n",
              "    </tr>\n",
              "    <tr>\n",
              "      <th>4</th>\n",
              "      <td>4</td>\n",
              "      <td>10159</td>\n",
              "      <td>49</td>\n",
              "      <td>100.00</td>\n",
              "      <td>14</td>\n",
              "      <td>5205.27</td>\n",
              "      <td>10/10/2003 0:00</td>\n",
              "      <td>Shipped</td>\n",
              "      <td>4</td>\n",
              "      <td>10</td>\n",
              "      <td>2003</td>\n",
              "      <td>Motorcycles</td>\n",
              "      <td>95</td>\n",
              "      <td>S10_1678</td>\n",
              "      <td>Corporate Gift Ideas Co.</td>\n",
              "      <td>6505551386</td>\n",
              "      <td>7734 Strong St.</td>\n",
              "      <td>NaN</td>\n",
              "      <td>San Francisco</td>\n",
              "      <td>CA</td>\n",
              "      <td>NaN</td>\n",
              "      <td>USA</td>\n",
              "      <td>NaN</td>\n",
              "      <td>Brown</td>\n",
              "      <td>Julie</td>\n",
              "      <td>Medium</td>\n",
              "    </tr>\n",
              "  </tbody>\n",
              "</table>\n",
              "</div>"
            ],
            "text/plain": [
              "   Unnamed: 0  ORDERNUMBER  QUANTITYORDERED  PRICEEACH  ORDERLINENUMBER  \\\n",
              "0           0        10107               30      95.70                2   \n",
              "1           1        10121               34      81.35                5   \n",
              "2           2        10134               41      94.74                2   \n",
              "3           3        10145               45      83.26                6   \n",
              "4           4        10159               49     100.00               14   \n",
              "\n",
              "     SALES        ORDERDATE   STATUS  QTR_ID  MONTH_ID  YEAR_ID  PRODUCTLINE  \\\n",
              "0  2871.00   2/24/2003 0:00  Shipped       1         2     2003  Motorcycles   \n",
              "1  2765.90    5/7/2003 0:00  Shipped       2         5     2003  Motorcycles   \n",
              "2  3884.34    7/1/2003 0:00  Shipped       3         7     2003  Motorcycles   \n",
              "3  3746.70   8/25/2003 0:00  Shipped       3         8     2003  Motorcycles   \n",
              "4  5205.27  10/10/2003 0:00  Shipped       4        10     2003  Motorcycles   \n",
              "\n",
              "   MSRP PRODUCTCODE              CUSTOMERNAME             PHONE  \\\n",
              "0    95    S10_1678         Land of Toys Inc.        2125557818   \n",
              "1    95    S10_1678        Reims Collectables        26.47.1555   \n",
              "2    95    S10_1678           Lyon Souveniers  +33 1 46 62 7555   \n",
              "3    95    S10_1678         Toys4GrownUps.com        6265557265   \n",
              "4    95    S10_1678  Corporate Gift Ideas Co.        6505551386   \n",
              "\n",
              "                    ADDRESSLINE1 ADDRESSLINE2           CITY STATE POSTALCODE  \\\n",
              "0        897 Long Airport Avenue          NaN            NYC    NY      10022   \n",
              "1             59 rue de l'Abbaye          NaN          Reims   NaN      51100   \n",
              "2  27 rue du Colonel Pierre Avia          NaN          Paris   NaN      75508   \n",
              "3             78934 Hillside Dr.          NaN       Pasadena    CA      90003   \n",
              "4                7734 Strong St.          NaN  San Francisco    CA        NaN   \n",
              "\n",
              "  COUNTRY TERRITORY CONTACTLASTNAME CONTACTFIRSTNAME DEALSIZE  \n",
              "0     USA       NaN              Yu             Kwai    Small  \n",
              "1  France      EMEA         Henriot             Paul    Small  \n",
              "2  France      EMEA        Da Cunha           Daniel   Medium  \n",
              "3     USA       NaN           Young            Julie   Medium  \n",
              "4     USA       NaN           Brown            Julie   Medium  "
            ]
          },
          "metadata": {
            "tags": []
          },
          "execution_count": 6
        }
      ]
    },
    {
      "cell_type": "code",
      "metadata": {
        "id": "F8R42loY6Xwv",
        "colab": {
          "base_uri": "https://localhost:8080/"
        },
        "outputId": "947a41a3-1f19-4835-e7b9-ee7d83b60151"
      },
      "source": [
        "df.info()"
      ],
      "execution_count": 7,
      "outputs": [
        {
          "output_type": "stream",
          "text": [
            "<class 'pandas.core.frame.DataFrame'>\n",
            "RangeIndex: 2823 entries, 0 to 2822\n",
            "Data columns (total 26 columns):\n",
            " #   Column            Non-Null Count  Dtype  \n",
            "---  ------            --------------  -----  \n",
            " 0   Unnamed: 0        2823 non-null   int64  \n",
            " 1   ORDERNUMBER       2823 non-null   int64  \n",
            " 2   QUANTITYORDERED   2823 non-null   int64  \n",
            " 3   PRICEEACH         2823 non-null   float64\n",
            " 4   ORDERLINENUMBER   2823 non-null   int64  \n",
            " 5   SALES             2823 non-null   float64\n",
            " 6   ORDERDATE         2823 non-null   object \n",
            " 7   STATUS            2823 non-null   object \n",
            " 8   QTR_ID            2823 non-null   int64  \n",
            " 9   MONTH_ID          2823 non-null   int64  \n",
            " 10  YEAR_ID           2823 non-null   int64  \n",
            " 11  PRODUCTLINE       2823 non-null   object \n",
            " 12  MSRP              2823 non-null   int64  \n",
            " 13  PRODUCTCODE       2823 non-null   object \n",
            " 14  CUSTOMERNAME      2823 non-null   object \n",
            " 15  PHONE             2823 non-null   object \n",
            " 16  ADDRESSLINE1      2823 non-null   object \n",
            " 17  ADDRESSLINE2      302 non-null    object \n",
            " 18  CITY              2823 non-null   object \n",
            " 19  STATE             1337 non-null   object \n",
            " 20  POSTALCODE        2747 non-null   object \n",
            " 21  COUNTRY           2823 non-null   object \n",
            " 22  TERRITORY         1749 non-null   object \n",
            " 23  CONTACTLASTNAME   2823 non-null   object \n",
            " 24  CONTACTFIRSTNAME  2823 non-null   object \n",
            " 25  DEALSIZE          2823 non-null   object \n",
            "dtypes: float64(2), int64(8), object(16)\n",
            "memory usage: 573.5+ KB\n"
          ],
          "name": "stdout"
        }
      ]
    },
    {
      "cell_type": "code",
      "metadata": {
        "id": "4BT3umaT6Xw8",
        "colab": {
          "base_uri": "https://localhost:8080/",
          "height": 306
        },
        "outputId": "8efa5d5b-0627-4c8d-da1d-4d255c0783eb"
      },
      "source": [
        "df.describe()"
      ],
      "execution_count": 8,
      "outputs": [
        {
          "output_type": "execute_result",
          "data": {
            "text/html": [
              "<div>\n",
              "<style scoped>\n",
              "    .dataframe tbody tr th:only-of-type {\n",
              "        vertical-align: middle;\n",
              "    }\n",
              "\n",
              "    .dataframe tbody tr th {\n",
              "        vertical-align: top;\n",
              "    }\n",
              "\n",
              "    .dataframe thead th {\n",
              "        text-align: right;\n",
              "    }\n",
              "</style>\n",
              "<table border=\"1\" class=\"dataframe\">\n",
              "  <thead>\n",
              "    <tr style=\"text-align: right;\">\n",
              "      <th></th>\n",
              "      <th>Unnamed: 0</th>\n",
              "      <th>ORDERNUMBER</th>\n",
              "      <th>QUANTITYORDERED</th>\n",
              "      <th>PRICEEACH</th>\n",
              "      <th>ORDERLINENUMBER</th>\n",
              "      <th>SALES</th>\n",
              "      <th>QTR_ID</th>\n",
              "      <th>MONTH_ID</th>\n",
              "      <th>YEAR_ID</th>\n",
              "      <th>MSRP</th>\n",
              "    </tr>\n",
              "  </thead>\n",
              "  <tbody>\n",
              "    <tr>\n",
              "      <th>count</th>\n",
              "      <td>2823.00000</td>\n",
              "      <td>2823.000000</td>\n",
              "      <td>2823.000000</td>\n",
              "      <td>2823.000000</td>\n",
              "      <td>2823.000000</td>\n",
              "      <td>2823.000000</td>\n",
              "      <td>2823.000000</td>\n",
              "      <td>2823.000000</td>\n",
              "      <td>2823.00000</td>\n",
              "      <td>2823.000000</td>\n",
              "    </tr>\n",
              "    <tr>\n",
              "      <th>mean</th>\n",
              "      <td>1411.00000</td>\n",
              "      <td>10258.725115</td>\n",
              "      <td>35.092809</td>\n",
              "      <td>83.658544</td>\n",
              "      <td>6.466171</td>\n",
              "      <td>3553.889072</td>\n",
              "      <td>2.717676</td>\n",
              "      <td>7.092455</td>\n",
              "      <td>2003.81509</td>\n",
              "      <td>100.715551</td>\n",
              "    </tr>\n",
              "    <tr>\n",
              "      <th>std</th>\n",
              "      <td>815.07423</td>\n",
              "      <td>92.085478</td>\n",
              "      <td>9.741443</td>\n",
              "      <td>20.174277</td>\n",
              "      <td>4.225841</td>\n",
              "      <td>1841.865106</td>\n",
              "      <td>1.203878</td>\n",
              "      <td>3.656633</td>\n",
              "      <td>0.69967</td>\n",
              "      <td>40.187912</td>\n",
              "    </tr>\n",
              "    <tr>\n",
              "      <th>min</th>\n",
              "      <td>0.00000</td>\n",
              "      <td>10100.000000</td>\n",
              "      <td>6.000000</td>\n",
              "      <td>26.880000</td>\n",
              "      <td>1.000000</td>\n",
              "      <td>482.130000</td>\n",
              "      <td>1.000000</td>\n",
              "      <td>1.000000</td>\n",
              "      <td>2003.00000</td>\n",
              "      <td>33.000000</td>\n",
              "    </tr>\n",
              "    <tr>\n",
              "      <th>25%</th>\n",
              "      <td>705.50000</td>\n",
              "      <td>10180.000000</td>\n",
              "      <td>27.000000</td>\n",
              "      <td>68.860000</td>\n",
              "      <td>3.000000</td>\n",
              "      <td>2203.430000</td>\n",
              "      <td>2.000000</td>\n",
              "      <td>4.000000</td>\n",
              "      <td>2003.00000</td>\n",
              "      <td>68.000000</td>\n",
              "    </tr>\n",
              "    <tr>\n",
              "      <th>50%</th>\n",
              "      <td>1411.00000</td>\n",
              "      <td>10262.000000</td>\n",
              "      <td>35.000000</td>\n",
              "      <td>95.700000</td>\n",
              "      <td>6.000000</td>\n",
              "      <td>3184.800000</td>\n",
              "      <td>3.000000</td>\n",
              "      <td>8.000000</td>\n",
              "      <td>2004.00000</td>\n",
              "      <td>99.000000</td>\n",
              "    </tr>\n",
              "    <tr>\n",
              "      <th>75%</th>\n",
              "      <td>2116.50000</td>\n",
              "      <td>10333.500000</td>\n",
              "      <td>43.000000</td>\n",
              "      <td>100.000000</td>\n",
              "      <td>9.000000</td>\n",
              "      <td>4508.000000</td>\n",
              "      <td>4.000000</td>\n",
              "      <td>11.000000</td>\n",
              "      <td>2004.00000</td>\n",
              "      <td>124.000000</td>\n",
              "    </tr>\n",
              "    <tr>\n",
              "      <th>max</th>\n",
              "      <td>2822.00000</td>\n",
              "      <td>10425.000000</td>\n",
              "      <td>97.000000</td>\n",
              "      <td>100.000000</td>\n",
              "      <td>18.000000</td>\n",
              "      <td>14082.800000</td>\n",
              "      <td>4.000000</td>\n",
              "      <td>12.000000</td>\n",
              "      <td>2005.00000</td>\n",
              "      <td>214.000000</td>\n",
              "    </tr>\n",
              "  </tbody>\n",
              "</table>\n",
              "</div>"
            ],
            "text/plain": [
              "       Unnamed: 0   ORDERNUMBER  QUANTITYORDERED    PRICEEACH  \\\n",
              "count  2823.00000   2823.000000      2823.000000  2823.000000   \n",
              "mean   1411.00000  10258.725115        35.092809    83.658544   \n",
              "std     815.07423     92.085478         9.741443    20.174277   \n",
              "min       0.00000  10100.000000         6.000000    26.880000   \n",
              "25%     705.50000  10180.000000        27.000000    68.860000   \n",
              "50%    1411.00000  10262.000000        35.000000    95.700000   \n",
              "75%    2116.50000  10333.500000        43.000000   100.000000   \n",
              "max    2822.00000  10425.000000        97.000000   100.000000   \n",
              "\n",
              "       ORDERLINENUMBER         SALES       QTR_ID     MONTH_ID     YEAR_ID  \\\n",
              "count      2823.000000   2823.000000  2823.000000  2823.000000  2823.00000   \n",
              "mean          6.466171   3553.889072     2.717676     7.092455  2003.81509   \n",
              "std           4.225841   1841.865106     1.203878     3.656633     0.69967   \n",
              "min           1.000000    482.130000     1.000000     1.000000  2003.00000   \n",
              "25%           3.000000   2203.430000     2.000000     4.000000  2003.00000   \n",
              "50%           6.000000   3184.800000     3.000000     8.000000  2004.00000   \n",
              "75%           9.000000   4508.000000     4.000000    11.000000  2004.00000   \n",
              "max          18.000000  14082.800000     4.000000    12.000000  2005.00000   \n",
              "\n",
              "              MSRP  \n",
              "count  2823.000000  \n",
              "mean    100.715551  \n",
              "std      40.187912  \n",
              "min      33.000000  \n",
              "25%      68.000000  \n",
              "50%      99.000000  \n",
              "75%     124.000000  \n",
              "max     214.000000  "
            ]
          },
          "metadata": {
            "tags": []
          },
          "execution_count": 8
        }
      ]
    },
    {
      "cell_type": "markdown",
      "metadata": {
        "id": "CHdcCtV06XxN"
      },
      "source": [
        "# RFM Analysis"
      ]
    },
    {
      "cell_type": "markdown",
      "metadata": {
        "id": "Z_QcDkatKOyu"
      },
      "source": [
        "A simple yet effective way of segmenting customers is through RFM Analysis. RFM uses just three factors to segment customers: Recency, Frequency, and Monetary.\r\n",
        "\r\n",
        "- Recency: How much time since the customer performed a desired activity (usually a purchase)? The more recently the customer has interacted with the company, the more likely they will be responsive to communication\r\n",
        "- Frequency: How often does the customer perform the desired activity? Customers that frequently interact with the company are generally of higher value than those that make a single purchase or those with sporatic activity.\r\n",
        "- Monetary: How much has the customer spent in a given period of time.\r\n",
        "\r\n",
        "RFM analysis may seem a bit simplistic but it is precisely because it is simple and intuitive that it is so popular."
      ]
    },
    {
      "cell_type": "code",
      "metadata": {
        "id": "BnOBLL8X6XxR",
        "colab": {
          "base_uri": "https://localhost:8080/",
          "height": 216
        },
        "outputId": "f4439a95-9f87-4dd2-9676-2817493f7064"
      },
      "source": [
        "rfm_df = df[['CUSTOMERNAME', 'ORDERNUMBER', 'ORDERDATE', 'SALES']]\n",
        "rfm_df['ORDERDATE'] = pd.to_datetime(rfm_df['ORDERDATE'])\n",
        "print('Shape:', rfm_df.shape)\n",
        "rfm_df.head()"
      ],
      "execution_count": 9,
      "outputs": [
        {
          "output_type": "stream",
          "text": [
            "Shape: (2823, 4)\n"
          ],
          "name": "stdout"
        },
        {
          "output_type": "execute_result",
          "data": {
            "text/html": [
              "<div>\n",
              "<style scoped>\n",
              "    .dataframe tbody tr th:only-of-type {\n",
              "        vertical-align: middle;\n",
              "    }\n",
              "\n",
              "    .dataframe tbody tr th {\n",
              "        vertical-align: top;\n",
              "    }\n",
              "\n",
              "    .dataframe thead th {\n",
              "        text-align: right;\n",
              "    }\n",
              "</style>\n",
              "<table border=\"1\" class=\"dataframe\">\n",
              "  <thead>\n",
              "    <tr style=\"text-align: right;\">\n",
              "      <th></th>\n",
              "      <th>CUSTOMERNAME</th>\n",
              "      <th>ORDERNUMBER</th>\n",
              "      <th>ORDERDATE</th>\n",
              "      <th>SALES</th>\n",
              "    </tr>\n",
              "  </thead>\n",
              "  <tbody>\n",
              "    <tr>\n",
              "      <th>0</th>\n",
              "      <td>Land of Toys Inc.</td>\n",
              "      <td>10107</td>\n",
              "      <td>2003-02-24</td>\n",
              "      <td>2871.00</td>\n",
              "    </tr>\n",
              "    <tr>\n",
              "      <th>1</th>\n",
              "      <td>Reims Collectables</td>\n",
              "      <td>10121</td>\n",
              "      <td>2003-05-07</td>\n",
              "      <td>2765.90</td>\n",
              "    </tr>\n",
              "    <tr>\n",
              "      <th>2</th>\n",
              "      <td>Lyon Souveniers</td>\n",
              "      <td>10134</td>\n",
              "      <td>2003-07-01</td>\n",
              "      <td>3884.34</td>\n",
              "    </tr>\n",
              "    <tr>\n",
              "      <th>3</th>\n",
              "      <td>Toys4GrownUps.com</td>\n",
              "      <td>10145</td>\n",
              "      <td>2003-08-25</td>\n",
              "      <td>3746.70</td>\n",
              "    </tr>\n",
              "    <tr>\n",
              "      <th>4</th>\n",
              "      <td>Corporate Gift Ideas Co.</td>\n",
              "      <td>10159</td>\n",
              "      <td>2003-10-10</td>\n",
              "      <td>5205.27</td>\n",
              "    </tr>\n",
              "  </tbody>\n",
              "</table>\n",
              "</div>"
            ],
            "text/plain": [
              "               CUSTOMERNAME  ORDERNUMBER  ORDERDATE    SALES\n",
              "0         Land of Toys Inc.        10107 2003-02-24  2871.00\n",
              "1        Reims Collectables        10121 2003-05-07  2765.90\n",
              "2           Lyon Souveniers        10134 2003-07-01  3884.34\n",
              "3         Toys4GrownUps.com        10145 2003-08-25  3746.70\n",
              "4  Corporate Gift Ideas Co.        10159 2003-10-10  5205.27"
            ]
          },
          "metadata": {
            "tags": []
          },
          "execution_count": 9
        }
      ]
    },
    {
      "cell_type": "code",
      "metadata": {
        "id": "QCTZygdu6XxY",
        "colab": {
          "base_uri": "https://localhost:8080/"
        },
        "outputId": "3977ca08-84c9-4a79-f8b2-af3219d2fa1d"
      },
      "source": [
        "rfm_df.info()"
      ],
      "execution_count": 10,
      "outputs": [
        {
          "output_type": "stream",
          "text": [
            "<class 'pandas.core.frame.DataFrame'>\n",
            "RangeIndex: 2823 entries, 0 to 2822\n",
            "Data columns (total 4 columns):\n",
            " #   Column        Non-Null Count  Dtype         \n",
            "---  ------        --------------  -----         \n",
            " 0   CUSTOMERNAME  2823 non-null   object        \n",
            " 1   ORDERNUMBER   2823 non-null   int64         \n",
            " 2   ORDERDATE     2823 non-null   datetime64[ns]\n",
            " 3   SALES         2823 non-null   float64       \n",
            "dtypes: datetime64[ns](1), float64(1), int64(1), object(1)\n",
            "memory usage: 88.3+ KB\n"
          ],
          "name": "stdout"
        }
      ]
    },
    {
      "cell_type": "markdown",
      "metadata": {
        "id": "4FbMIK4KOKBv"
      },
      "source": [
        "First we'll simplify the dataset down to the key features we need for RFM and then apply simple manipulations to assign each customer a value for recency, frequency, and monetary value."
      ]
    },
    {
      "cell_type": "code",
      "metadata": {
        "id": "N6wXxTi66Xxs"
      },
      "source": [
        "NOW = rfm_df['ORDERDATE'].max()"
      ],
      "execution_count": 11,
      "outputs": []
    },
    {
      "cell_type": "code",
      "metadata": {
        "id": "nbtUIKZy6Xx1"
      },
      "source": [
        "rfm_table = rfm_df.groupby('CUSTOMERNAME').agg({'ORDERDATE': lambda x: (NOW - x.max()).days,\n",
        "                                                'ORDERNUMBER': lambda x: len(x.unique()),\n",
        "                                                'SALES': lambda x: x.sum()})\n",
        "\n",
        "rfm_table = rfm_table.rename(columns={'ORDERDATE': 'recency', \n",
        "                                      'ORDERNUMBER': 'frequency',\n",
        "                                      'SALES': 'monetary_value'})"
      ],
      "execution_count": 12,
      "outputs": []
    },
    {
      "cell_type": "code",
      "metadata": {
        "id": "AcAzdKyV6Xx9",
        "colab": {
          "base_uri": "https://localhost:8080/",
          "height": 228
        },
        "outputId": "ff8691ab-e556-4fb8-c4e2-05ea4df9b529"
      },
      "source": [
        "rfm_table.head()"
      ],
      "execution_count": 13,
      "outputs": [
        {
          "output_type": "execute_result",
          "data": {
            "text/html": [
              "<div>\n",
              "<style scoped>\n",
              "    .dataframe tbody tr th:only-of-type {\n",
              "        vertical-align: middle;\n",
              "    }\n",
              "\n",
              "    .dataframe tbody tr th {\n",
              "        vertical-align: top;\n",
              "    }\n",
              "\n",
              "    .dataframe thead th {\n",
              "        text-align: right;\n",
              "    }\n",
              "</style>\n",
              "<table border=\"1\" class=\"dataframe\">\n",
              "  <thead>\n",
              "    <tr style=\"text-align: right;\">\n",
              "      <th></th>\n",
              "      <th>recency</th>\n",
              "      <th>frequency</th>\n",
              "      <th>monetary_value</th>\n",
              "    </tr>\n",
              "    <tr>\n",
              "      <th>CUSTOMERNAME</th>\n",
              "      <th></th>\n",
              "      <th></th>\n",
              "      <th></th>\n",
              "    </tr>\n",
              "  </thead>\n",
              "  <tbody>\n",
              "    <tr>\n",
              "      <th>AV Stores, Co.</th>\n",
              "      <td>195</td>\n",
              "      <td>3</td>\n",
              "      <td>157807.81</td>\n",
              "    </tr>\n",
              "    <tr>\n",
              "      <th>Alpha Cognac</th>\n",
              "      <td>64</td>\n",
              "      <td>3</td>\n",
              "      <td>70488.44</td>\n",
              "    </tr>\n",
              "    <tr>\n",
              "      <th>Amica Models &amp; Co.</th>\n",
              "      <td>264</td>\n",
              "      <td>2</td>\n",
              "      <td>94117.26</td>\n",
              "    </tr>\n",
              "    <tr>\n",
              "      <th>Anna's Decorations, Ltd</th>\n",
              "      <td>83</td>\n",
              "      <td>4</td>\n",
              "      <td>153996.13</td>\n",
              "    </tr>\n",
              "    <tr>\n",
              "      <th>Atelier graphique</th>\n",
              "      <td>187</td>\n",
              "      <td>3</td>\n",
              "      <td>24179.96</td>\n",
              "    </tr>\n",
              "  </tbody>\n",
              "</table>\n",
              "</div>"
            ],
            "text/plain": [
              "                         recency  frequency  monetary_value\n",
              "CUSTOMERNAME                                               \n",
              "AV Stores, Co.               195          3       157807.81\n",
              "Alpha Cognac                  64          3        70488.44\n",
              "Amica Models & Co.           264          2        94117.26\n",
              "Anna's Decorations, Ltd       83          4       153996.13\n",
              "Atelier graphique            187          3        24179.96"
            ]
          },
          "metadata": {
            "tags": []
          },
          "execution_count": 13
        }
      ]
    },
    {
      "cell_type": "markdown",
      "metadata": {
        "id": "l7biE5RaPSgk"
      },
      "source": [
        "Next we will add three new features by separating the RFM features into quantiles. This will allow us to quickly sort the customers into different groups as we will see below and gives us 64 distinct customer segments (4x4x4)."
      ]
    },
    {
      "cell_type": "code",
      "metadata": {
        "id": "Sa9DRtHgD-D_",
        "colab": {
          "base_uri": "https://localhost:8080/"
        },
        "outputId": "0aa27894-b257-46f7-e38f-4680c8e79a8e"
      },
      "source": [
        "quantiles = rfm_table.quantile(q=[0.25,0.5,0.75]).to_dict()\n",
        "quantiles"
      ],
      "execution_count": 14,
      "outputs": [
        {
          "output_type": "execute_result",
          "data": {
            "text/plain": [
              "{'frequency': {0.25: 2.0, 0.5: 3.0, 0.75: 3.0},\n",
              " 'monetary_value': {0.25: 70129.4325, 0.5: 86522.61, 0.75: 120575.875},\n",
              " 'recency': {0.25: 80.25, 0.5: 185.0, 0.75: 229.25}}"
            ]
          },
          "metadata": {
            "tags": []
          },
          "execution_count": 14
        }
      ]
    },
    {
      "cell_type": "code",
      "metadata": {
        "id": "4RcmoIrAD9US"
      },
      "source": [
        "def R_Class(value, category, quartile_dict):\n",
        "    if value <= quartile_dict[category][0.25]:\n",
        "        return 1\n",
        "    elif value <= quartile_dict[category][0.50]:\n",
        "        return 2\n",
        "    elif value <= quartile_dict[category][0.75]: \n",
        "        return 3\n",
        "    else:\n",
        "        return 4\n",
        "    \n",
        "\n",
        "def FM_Class(value, category, quartile_dict):\n",
        "    if value <= quartile_dict[category][0.25]:\n",
        "        return 4\n",
        "    elif value <= quartile_dict[category][0.50]:\n",
        "        return 3\n",
        "    elif value <= quartile_dict[category][0.75]: \n",
        "        return 2\n",
        "    else:\n",
        "        return 1"
      ],
      "execution_count": 15,
      "outputs": []
    },
    {
      "cell_type": "code",
      "metadata": {
        "id": "nVouwxIu6XyU",
        "colab": {
          "base_uri": "https://localhost:8080/",
          "height": 228
        },
        "outputId": "5f17531e-8362-41f3-b04f-7ff8253b4bdf"
      },
      "source": [
        "rfm_table['R_Quartile'] = rfm_table['recency'].apply(R_Class,\n",
        "                                            args=('recency', quantiles,))\n",
        "rfm_table['F_Quartile'] = rfm_table['frequency'].apply(FM_Class,\n",
        "                                            args=('frequency', quantiles,))\n",
        "rfm_table['M_Quartile'] = rfm_table['monetary_value'].apply(FM_Class,\n",
        "                                            args=('monetary_value', quantiles,))\n",
        "\n",
        "rfm_table.head()"
      ],
      "execution_count": 16,
      "outputs": [
        {
          "output_type": "execute_result",
          "data": {
            "text/html": [
              "<div>\n",
              "<style scoped>\n",
              "    .dataframe tbody tr th:only-of-type {\n",
              "        vertical-align: middle;\n",
              "    }\n",
              "\n",
              "    .dataframe tbody tr th {\n",
              "        vertical-align: top;\n",
              "    }\n",
              "\n",
              "    .dataframe thead th {\n",
              "        text-align: right;\n",
              "    }\n",
              "</style>\n",
              "<table border=\"1\" class=\"dataframe\">\n",
              "  <thead>\n",
              "    <tr style=\"text-align: right;\">\n",
              "      <th></th>\n",
              "      <th>recency</th>\n",
              "      <th>frequency</th>\n",
              "      <th>monetary_value</th>\n",
              "      <th>R_Quartile</th>\n",
              "      <th>F_Quartile</th>\n",
              "      <th>M_Quartile</th>\n",
              "    </tr>\n",
              "    <tr>\n",
              "      <th>CUSTOMERNAME</th>\n",
              "      <th></th>\n",
              "      <th></th>\n",
              "      <th></th>\n",
              "      <th></th>\n",
              "      <th></th>\n",
              "      <th></th>\n",
              "    </tr>\n",
              "  </thead>\n",
              "  <tbody>\n",
              "    <tr>\n",
              "      <th>AV Stores, Co.</th>\n",
              "      <td>195</td>\n",
              "      <td>3</td>\n",
              "      <td>157807.81</td>\n",
              "      <td>3</td>\n",
              "      <td>3</td>\n",
              "      <td>1</td>\n",
              "    </tr>\n",
              "    <tr>\n",
              "      <th>Alpha Cognac</th>\n",
              "      <td>64</td>\n",
              "      <td>3</td>\n",
              "      <td>70488.44</td>\n",
              "      <td>1</td>\n",
              "      <td>3</td>\n",
              "      <td>3</td>\n",
              "    </tr>\n",
              "    <tr>\n",
              "      <th>Amica Models &amp; Co.</th>\n",
              "      <td>264</td>\n",
              "      <td>2</td>\n",
              "      <td>94117.26</td>\n",
              "      <td>4</td>\n",
              "      <td>4</td>\n",
              "      <td>2</td>\n",
              "    </tr>\n",
              "    <tr>\n",
              "      <th>Anna's Decorations, Ltd</th>\n",
              "      <td>83</td>\n",
              "      <td>4</td>\n",
              "      <td>153996.13</td>\n",
              "      <td>2</td>\n",
              "      <td>1</td>\n",
              "      <td>1</td>\n",
              "    </tr>\n",
              "    <tr>\n",
              "      <th>Atelier graphique</th>\n",
              "      <td>187</td>\n",
              "      <td>3</td>\n",
              "      <td>24179.96</td>\n",
              "      <td>3</td>\n",
              "      <td>3</td>\n",
              "      <td>4</td>\n",
              "    </tr>\n",
              "  </tbody>\n",
              "</table>\n",
              "</div>"
            ],
            "text/plain": [
              "                         recency  frequency  monetary_value  R_Quartile  \\\n",
              "CUSTOMERNAME                                                              \n",
              "AV Stores, Co.               195          3       157807.81           3   \n",
              "Alpha Cognac                  64          3        70488.44           1   \n",
              "Amica Models & Co.           264          2        94117.26           4   \n",
              "Anna's Decorations, Ltd       83          4       153996.13           2   \n",
              "Atelier graphique            187          3        24179.96           3   \n",
              "\n",
              "                         F_Quartile  M_Quartile  \n",
              "CUSTOMERNAME                                     \n",
              "AV Stores, Co.                    3           1  \n",
              "Alpha Cognac                      3           3  \n",
              "Amica Models & Co.                4           2  \n",
              "Anna's Decorations, Ltd           1           1  \n",
              "Atelier graphique                 3           4  "
            ]
          },
          "metadata": {
            "tags": []
          },
          "execution_count": 16
        }
      ]
    },
    {
      "cell_type": "markdown",
      "metadata": {
        "id": "PUikx89-RWgD"
      },
      "source": [
        "We can use the quantile features to apply a customer score or grade if we would like to simplify the segmentation further or have larger segments for certain outreach."
      ]
    },
    {
      "cell_type": "code",
      "metadata": {
        "id": "8mvzqxFJRQ1d"
      },
      "source": [
        "rfm_table['RFM_score'] = rfm_table[['R_Quartile', 'F_Quartile',\r\n",
        "                                    'M_Quartile']].sum(axis=1)"
      ],
      "execution_count": 17,
      "outputs": []
    },
    {
      "cell_type": "code",
      "metadata": {
        "id": "Vl9SALzO82cf",
        "colab": {
          "base_uri": "https://localhost:8080/",
          "height": 228
        },
        "outputId": "a7fe7e71-50a6-46b7-d241-c4c2f512a6e4"
      },
      "source": [
        "def rfm_customer_grade(score):\n",
        "  if score <= 4:\n",
        "    return 'A'\n",
        "  elif score <= 7:\n",
        "    return 'B'\n",
        "  elif score <= 10:\n",
        "    return 'C'\n",
        "  else:\n",
        "    return 'D'\n",
        "\n",
        "rfm_table['customer_grade'] = rfm_table['RFM_score'].apply(rfm_customer_grade)\n",
        "rfm_table.head()"
      ],
      "execution_count": 18,
      "outputs": [
        {
          "output_type": "execute_result",
          "data": {
            "text/html": [
              "<div>\n",
              "<style scoped>\n",
              "    .dataframe tbody tr th:only-of-type {\n",
              "        vertical-align: middle;\n",
              "    }\n",
              "\n",
              "    .dataframe tbody tr th {\n",
              "        vertical-align: top;\n",
              "    }\n",
              "\n",
              "    .dataframe thead th {\n",
              "        text-align: right;\n",
              "    }\n",
              "</style>\n",
              "<table border=\"1\" class=\"dataframe\">\n",
              "  <thead>\n",
              "    <tr style=\"text-align: right;\">\n",
              "      <th></th>\n",
              "      <th>recency</th>\n",
              "      <th>frequency</th>\n",
              "      <th>monetary_value</th>\n",
              "      <th>R_Quartile</th>\n",
              "      <th>F_Quartile</th>\n",
              "      <th>M_Quartile</th>\n",
              "      <th>RFM_score</th>\n",
              "      <th>customer_grade</th>\n",
              "    </tr>\n",
              "    <tr>\n",
              "      <th>CUSTOMERNAME</th>\n",
              "      <th></th>\n",
              "      <th></th>\n",
              "      <th></th>\n",
              "      <th></th>\n",
              "      <th></th>\n",
              "      <th></th>\n",
              "      <th></th>\n",
              "      <th></th>\n",
              "    </tr>\n",
              "  </thead>\n",
              "  <tbody>\n",
              "    <tr>\n",
              "      <th>AV Stores, Co.</th>\n",
              "      <td>195</td>\n",
              "      <td>3</td>\n",
              "      <td>157807.81</td>\n",
              "      <td>3</td>\n",
              "      <td>3</td>\n",
              "      <td>1</td>\n",
              "      <td>7</td>\n",
              "      <td>B</td>\n",
              "    </tr>\n",
              "    <tr>\n",
              "      <th>Alpha Cognac</th>\n",
              "      <td>64</td>\n",
              "      <td>3</td>\n",
              "      <td>70488.44</td>\n",
              "      <td>1</td>\n",
              "      <td>3</td>\n",
              "      <td>3</td>\n",
              "      <td>7</td>\n",
              "      <td>B</td>\n",
              "    </tr>\n",
              "    <tr>\n",
              "      <th>Amica Models &amp; Co.</th>\n",
              "      <td>264</td>\n",
              "      <td>2</td>\n",
              "      <td>94117.26</td>\n",
              "      <td>4</td>\n",
              "      <td>4</td>\n",
              "      <td>2</td>\n",
              "      <td>10</td>\n",
              "      <td>C</td>\n",
              "    </tr>\n",
              "    <tr>\n",
              "      <th>Anna's Decorations, Ltd</th>\n",
              "      <td>83</td>\n",
              "      <td>4</td>\n",
              "      <td>153996.13</td>\n",
              "      <td>2</td>\n",
              "      <td>1</td>\n",
              "      <td>1</td>\n",
              "      <td>4</td>\n",
              "      <td>A</td>\n",
              "    </tr>\n",
              "    <tr>\n",
              "      <th>Atelier graphique</th>\n",
              "      <td>187</td>\n",
              "      <td>3</td>\n",
              "      <td>24179.96</td>\n",
              "      <td>3</td>\n",
              "      <td>3</td>\n",
              "      <td>4</td>\n",
              "      <td>10</td>\n",
              "      <td>C</td>\n",
              "    </tr>\n",
              "  </tbody>\n",
              "</table>\n",
              "</div>"
            ],
            "text/plain": [
              "                         recency  frequency  monetary_value  R_Quartile  \\\n",
              "CUSTOMERNAME                                                              \n",
              "AV Stores, Co.               195          3       157807.81           3   \n",
              "Alpha Cognac                  64          3        70488.44           1   \n",
              "Amica Models & Co.           264          2        94117.26           4   \n",
              "Anna's Decorations, Ltd       83          4       153996.13           2   \n",
              "Atelier graphique            187          3        24179.96           3   \n",
              "\n",
              "                         F_Quartile  M_Quartile  RFM_score customer_grade  \n",
              "CUSTOMERNAME                                                               \n",
              "AV Stores, Co.                    3           1          7              B  \n",
              "Alpha Cognac                      3           3          7              B  \n",
              "Amica Models & Co.                4           2         10              C  \n",
              "Anna's Decorations, Ltd           1           1          4              A  \n",
              "Atelier graphique                 3           4         10              C  "
            ]
          },
          "metadata": {
            "tags": []
          },
          "execution_count": 18
        }
      ]
    },
    {
      "cell_type": "markdown",
      "metadata": {
        "id": "cRLDIA6aB1q4"
      },
      "source": [
        "## Customer Segments"
      ]
    },
    {
      "cell_type": "markdown",
      "metadata": {
        "id": "nmRRSeM3R70h"
      },
      "source": [
        "After segmenting with RFM the next step is to select different groups of customers so that you can send out targeted communication. With RFM Analysis we can quickly see our most valuable customers, those on the verge of churn, customers we have lost and more. And thanks to the simplicity of the segmentation, it is easy for any employee to quickly understand the group and take action."
      ]
    },
    {
      "cell_type": "code",
      "metadata": {
        "id": "PeTAjuAZ-ko5"
      },
      "source": [
        "# Function to make group selection easier\n",
        "def RFM_segment(recency=None, frequency=None, monetary=None):\n",
        "  condition = None\n",
        "  \n",
        "  if recency is not None:\n",
        "    r_condition = rfm_table['R_Quartile'] == recency\n",
        "    condition = r_condition\n",
        "  if frequency is not None:\n",
        "    f_condition = rfm_table['F_Quartile'] == frequency\n",
        "    if condition is not None:\n",
        "      condition = condition & f_condition\n",
        "    else:\n",
        "      condition = f_condition\n",
        "  if monetary is not None:\n",
        "    m_condition = rfm_table['M_Quartile'] == monetary\n",
        "    if condition is not None:\n",
        "      condition = condition & m_condition\n",
        "    else:\n",
        "      condition = m_condition\n",
        "  \n",
        "  return condition"
      ],
      "execution_count": 19,
      "outputs": []
    },
    {
      "cell_type": "code",
      "metadata": {
        "id": "uTibCp166XyZ",
        "colab": {
          "base_uri": "https://localhost:8080/",
          "height": 0
        },
        "outputId": "69f3541a-a409-4aec-f980-ba8ad80fb232"
      },
      "source": [
        "# Best Customers\n",
        "rfm_table[RFM_segment(1,1,1)].sort_values('monetary_value',\n",
        "                                          ascending=False).head()"
      ],
      "execution_count": 20,
      "outputs": [
        {
          "output_type": "execute_result",
          "data": {
            "text/html": [
              "<div>\n",
              "<style scoped>\n",
              "    .dataframe tbody tr th:only-of-type {\n",
              "        vertical-align: middle;\n",
              "    }\n",
              "\n",
              "    .dataframe tbody tr th {\n",
              "        vertical-align: top;\n",
              "    }\n",
              "\n",
              "    .dataframe thead th {\n",
              "        text-align: right;\n",
              "    }\n",
              "</style>\n",
              "<table border=\"1\" class=\"dataframe\">\n",
              "  <thead>\n",
              "    <tr style=\"text-align: right;\">\n",
              "      <th></th>\n",
              "      <th>recency</th>\n",
              "      <th>frequency</th>\n",
              "      <th>monetary_value</th>\n",
              "      <th>R_Quartile</th>\n",
              "      <th>F_Quartile</th>\n",
              "      <th>M_Quartile</th>\n",
              "      <th>RFM_score</th>\n",
              "      <th>customer_grade</th>\n",
              "    </tr>\n",
              "    <tr>\n",
              "      <th>CUSTOMERNAME</th>\n",
              "      <th></th>\n",
              "      <th></th>\n",
              "      <th></th>\n",
              "      <th></th>\n",
              "      <th></th>\n",
              "      <th></th>\n",
              "      <th></th>\n",
              "      <th></th>\n",
              "    </tr>\n",
              "  </thead>\n",
              "  <tbody>\n",
              "    <tr>\n",
              "      <th>Euro Shopping Channel</th>\n",
              "      <td>0</td>\n",
              "      <td>26</td>\n",
              "      <td>912294.11</td>\n",
              "      <td>1</td>\n",
              "      <td>1</td>\n",
              "      <td>1</td>\n",
              "      <td>3</td>\n",
              "      <td>A</td>\n",
              "    </tr>\n",
              "    <tr>\n",
              "      <th>Mini Gifts Distributors Ltd.</th>\n",
              "      <td>2</td>\n",
              "      <td>17</td>\n",
              "      <td>654858.06</td>\n",
              "      <td>1</td>\n",
              "      <td>1</td>\n",
              "      <td>1</td>\n",
              "      <td>3</td>\n",
              "      <td>A</td>\n",
              "    </tr>\n",
              "    <tr>\n",
              "      <th>La Rochelle Gifts</th>\n",
              "      <td>0</td>\n",
              "      <td>4</td>\n",
              "      <td>180124.90</td>\n",
              "      <td>1</td>\n",
              "      <td>1</td>\n",
              "      <td>1</td>\n",
              "      <td>3</td>\n",
              "      <td>A</td>\n",
              "    </tr>\n",
              "    <tr>\n",
              "      <th>The Sharp Gifts Warehouse</th>\n",
              "      <td>39</td>\n",
              "      <td>4</td>\n",
              "      <td>160010.27</td>\n",
              "      <td>1</td>\n",
              "      <td>1</td>\n",
              "      <td>1</td>\n",
              "      <td>3</td>\n",
              "      <td>A</td>\n",
              "    </tr>\n",
              "    <tr>\n",
              "      <th>Souveniers And Things Co.</th>\n",
              "      <td>2</td>\n",
              "      <td>4</td>\n",
              "      <td>151570.98</td>\n",
              "      <td>1</td>\n",
              "      <td>1</td>\n",
              "      <td>1</td>\n",
              "      <td>3</td>\n",
              "      <td>A</td>\n",
              "    </tr>\n",
              "  </tbody>\n",
              "</table>\n",
              "</div>"
            ],
            "text/plain": [
              "                              recency  frequency  monetary_value  R_Quartile  \\\n",
              "CUSTOMERNAME                                                                   \n",
              "Euro Shopping Channel               0         26       912294.11           1   \n",
              "Mini Gifts Distributors Ltd.        2         17       654858.06           1   \n",
              "La Rochelle Gifts                   0          4       180124.90           1   \n",
              "The Sharp Gifts Warehouse          39          4       160010.27           1   \n",
              "Souveniers And Things Co.           2          4       151570.98           1   \n",
              "\n",
              "                              F_Quartile  M_Quartile  RFM_score customer_grade  \n",
              "CUSTOMERNAME                                                                    \n",
              "Euro Shopping Channel                  1           1          3              A  \n",
              "Mini Gifts Distributors Ltd.           1           1          3              A  \n",
              "La Rochelle Gifts                      1           1          3              A  \n",
              "The Sharp Gifts Warehouse              1           1          3              A  \n",
              "Souveniers And Things Co.              1           1          3              A  "
            ]
          },
          "metadata": {
            "tags": []
          },
          "execution_count": 20
        }
      ]
    },
    {
      "cell_type": "code",
      "metadata": {
        "id": "deDuXJVv6Xyd",
        "colab": {
          "base_uri": "https://localhost:8080/",
          "height": 0
        },
        "outputId": "2465c4c0-c6c3-4df6-b349-45c09dc21cbb"
      },
      "source": [
        "# Customers on Verge of Churn\n",
        "rfm_table[rfm_table['R_Quartile'] >= 3].sort_values('monetary_value', \n",
        "                                                    ascending=False).head()"
      ],
      "execution_count": 21,
      "outputs": [
        {
          "output_type": "execute_result",
          "data": {
            "text/html": [
              "<div>\n",
              "<style scoped>\n",
              "    .dataframe tbody tr th:only-of-type {\n",
              "        vertical-align: middle;\n",
              "    }\n",
              "\n",
              "    .dataframe tbody tr th {\n",
              "        vertical-align: top;\n",
              "    }\n",
              "\n",
              "    .dataframe thead th {\n",
              "        text-align: right;\n",
              "    }\n",
              "</style>\n",
              "<table border=\"1\" class=\"dataframe\">\n",
              "  <thead>\n",
              "    <tr style=\"text-align: right;\">\n",
              "      <th></th>\n",
              "      <th>recency</th>\n",
              "      <th>frequency</th>\n",
              "      <th>monetary_value</th>\n",
              "      <th>R_Quartile</th>\n",
              "      <th>F_Quartile</th>\n",
              "      <th>M_Quartile</th>\n",
              "      <th>RFM_score</th>\n",
              "      <th>customer_grade</th>\n",
              "    </tr>\n",
              "    <tr>\n",
              "      <th>CUSTOMERNAME</th>\n",
              "      <th></th>\n",
              "      <th></th>\n",
              "      <th></th>\n",
              "      <th></th>\n",
              "      <th></th>\n",
              "      <th></th>\n",
              "      <th></th>\n",
              "      <th></th>\n",
              "    </tr>\n",
              "  </thead>\n",
              "  <tbody>\n",
              "    <tr>\n",
              "      <th>Land of Toys Inc.</th>\n",
              "      <td>197</td>\n",
              "      <td>4</td>\n",
              "      <td>164069.44</td>\n",
              "      <td>3</td>\n",
              "      <td>1</td>\n",
              "      <td>1</td>\n",
              "      <td>5</td>\n",
              "      <td>B</td>\n",
              "    </tr>\n",
              "    <tr>\n",
              "      <th>AV Stores, Co.</th>\n",
              "      <td>195</td>\n",
              "      <td>3</td>\n",
              "      <td>157807.81</td>\n",
              "      <td>3</td>\n",
              "      <td>3</td>\n",
              "      <td>1</td>\n",
              "      <td>7</td>\n",
              "      <td>B</td>\n",
              "    </tr>\n",
              "    <tr>\n",
              "      <th>Saveley &amp; Henriot, Co.</th>\n",
              "      <td>455</td>\n",
              "      <td>3</td>\n",
              "      <td>142874.25</td>\n",
              "      <td>4</td>\n",
              "      <td>3</td>\n",
              "      <td>1</td>\n",
              "      <td>8</td>\n",
              "      <td>C</td>\n",
              "    </tr>\n",
              "    <tr>\n",
              "      <th>Rovelli Gifts</th>\n",
              "      <td>200</td>\n",
              "      <td>3</td>\n",
              "      <td>137955.72</td>\n",
              "      <td>3</td>\n",
              "      <td>3</td>\n",
              "      <td>1</td>\n",
              "      <td>7</td>\n",
              "      <td>B</td>\n",
              "    </tr>\n",
              "    <tr>\n",
              "      <th>Online Diecast Creations Co.</th>\n",
              "      <td>208</td>\n",
              "      <td>3</td>\n",
              "      <td>131685.30</td>\n",
              "      <td>3</td>\n",
              "      <td>3</td>\n",
              "      <td>1</td>\n",
              "      <td>7</td>\n",
              "      <td>B</td>\n",
              "    </tr>\n",
              "  </tbody>\n",
              "</table>\n",
              "</div>"
            ],
            "text/plain": [
              "                              recency  frequency  monetary_value  R_Quartile  \\\n",
              "CUSTOMERNAME                                                                   \n",
              "Land of Toys Inc.                 197          4       164069.44           3   \n",
              "AV Stores, Co.                    195          3       157807.81           3   \n",
              "Saveley & Henriot, Co.            455          3       142874.25           4   \n",
              "Rovelli Gifts                     200          3       137955.72           3   \n",
              "Online Diecast Creations Co.      208          3       131685.30           3   \n",
              "\n",
              "                              F_Quartile  M_Quartile  RFM_score customer_grade  \n",
              "CUSTOMERNAME                                                                    \n",
              "Land of Toys Inc.                      1           1          5              B  \n",
              "AV Stores, Co.                         3           1          7              B  \n",
              "Saveley & Henriot, Co.                 3           1          8              C  \n",
              "Rovelli Gifts                          3           1          7              B  \n",
              "Online Diecast Creations Co.           3           1          7              B  "
            ]
          },
          "metadata": {
            "tags": []
          },
          "execution_count": 21
        }
      ]
    },
    {
      "cell_type": "code",
      "metadata": {
        "id": "9Gy7TWzq6Xyk",
        "colab": {
          "base_uri": "https://localhost:8080/",
          "height": 0
        },
        "outputId": "95bcd1db-83df-4107-90c1-9836a53d6fe8"
      },
      "source": [
        "# Lost Cheap Customers\n",
        "rfm_table[RFM_segment(4,4,4)].sort_values('recency', ascending=False).head()"
      ],
      "execution_count": 22,
      "outputs": [
        {
          "output_type": "execute_result",
          "data": {
            "text/html": [
              "<div>\n",
              "<style scoped>\n",
              "    .dataframe tbody tr th:only-of-type {\n",
              "        vertical-align: middle;\n",
              "    }\n",
              "\n",
              "    .dataframe tbody tr th {\n",
              "        vertical-align: top;\n",
              "    }\n",
              "\n",
              "    .dataframe thead th {\n",
              "        text-align: right;\n",
              "    }\n",
              "</style>\n",
              "<table border=\"1\" class=\"dataframe\">\n",
              "  <thead>\n",
              "    <tr style=\"text-align: right;\">\n",
              "      <th></th>\n",
              "      <th>recency</th>\n",
              "      <th>frequency</th>\n",
              "      <th>monetary_value</th>\n",
              "      <th>R_Quartile</th>\n",
              "      <th>F_Quartile</th>\n",
              "      <th>M_Quartile</th>\n",
              "      <th>RFM_score</th>\n",
              "      <th>customer_grade</th>\n",
              "    </tr>\n",
              "    <tr>\n",
              "      <th>CUSTOMERNAME</th>\n",
              "      <th></th>\n",
              "      <th></th>\n",
              "      <th></th>\n",
              "      <th></th>\n",
              "      <th></th>\n",
              "      <th></th>\n",
              "      <th></th>\n",
              "      <th></th>\n",
              "    </tr>\n",
              "  </thead>\n",
              "  <tbody>\n",
              "    <tr>\n",
              "      <th>Men 'R' US Retailers, Ltd.</th>\n",
              "      <td>508</td>\n",
              "      <td>2</td>\n",
              "      <td>48048.46</td>\n",
              "      <td>4</td>\n",
              "      <td>4</td>\n",
              "      <td>4</td>\n",
              "      <td>12</td>\n",
              "      <td>D</td>\n",
              "    </tr>\n",
              "    <tr>\n",
              "      <th>Double Decker Gift Stores, Ltd</th>\n",
              "      <td>495</td>\n",
              "      <td>2</td>\n",
              "      <td>36019.04</td>\n",
              "      <td>4</td>\n",
              "      <td>4</td>\n",
              "      <td>4</td>\n",
              "      <td>12</td>\n",
              "      <td>D</td>\n",
              "    </tr>\n",
              "    <tr>\n",
              "      <th>West Coast Collectables Co.</th>\n",
              "      <td>488</td>\n",
              "      <td>2</td>\n",
              "      <td>46084.64</td>\n",
              "      <td>4</td>\n",
              "      <td>4</td>\n",
              "      <td>4</td>\n",
              "      <td>12</td>\n",
              "      <td>D</td>\n",
              "    </tr>\n",
              "    <tr>\n",
              "      <th>Signal Collectibles Ltd.</th>\n",
              "      <td>476</td>\n",
              "      <td>2</td>\n",
              "      <td>50218.51</td>\n",
              "      <td>4</td>\n",
              "      <td>4</td>\n",
              "      <td>4</td>\n",
              "      <td>12</td>\n",
              "      <td>D</td>\n",
              "    </tr>\n",
              "    <tr>\n",
              "      <th>Daedalus Designs Imports</th>\n",
              "      <td>465</td>\n",
              "      <td>2</td>\n",
              "      <td>69052.41</td>\n",
              "      <td>4</td>\n",
              "      <td>4</td>\n",
              "      <td>4</td>\n",
              "      <td>12</td>\n",
              "      <td>D</td>\n",
              "    </tr>\n",
              "  </tbody>\n",
              "</table>\n",
              "</div>"
            ],
            "text/plain": [
              "                                recency  frequency  monetary_value  \\\n",
              "CUSTOMERNAME                                                         \n",
              "Men 'R' US Retailers, Ltd.          508          2        48048.46   \n",
              "Double Decker Gift Stores, Ltd      495          2        36019.04   \n",
              "West Coast Collectables Co.         488          2        46084.64   \n",
              "Signal Collectibles Ltd.            476          2        50218.51   \n",
              "Daedalus Designs Imports            465          2        69052.41   \n",
              "\n",
              "                                R_Quartile  F_Quartile  M_Quartile  RFM_score  \\\n",
              "CUSTOMERNAME                                                                    \n",
              "Men 'R' US Retailers, Ltd.               4           4           4         12   \n",
              "Double Decker Gift Stores, Ltd           4           4           4         12   \n",
              "West Coast Collectables Co.              4           4           4         12   \n",
              "Signal Collectibles Ltd.                 4           4           4         12   \n",
              "Daedalus Designs Imports                 4           4           4         12   \n",
              "\n",
              "                               customer_grade  \n",
              "CUSTOMERNAME                                   \n",
              "Men 'R' US Retailers, Ltd.                  D  \n",
              "Double Decker Gift Stores, Ltd              D  \n",
              "West Coast Collectables Co.                 D  \n",
              "Signal Collectibles Ltd.                    D  \n",
              "Daedalus Designs Imports                    D  "
            ]
          },
          "metadata": {
            "tags": []
          },
          "execution_count": 22
        }
      ]
    },
    {
      "cell_type": "code",
      "metadata": {
        "id": "PzT6UAyg-cN-",
        "colab": {
          "base_uri": "https://localhost:8080/",
          "height": 0
        },
        "outputId": "8fd2a158-1e7e-41f4-a8c5-1ad774ea59d6"
      },
      "source": [
        "# Lost High Value Customers\n",
        "rfm_table[RFM_segment(4,1,1)].sort_values('recency', ascending=False).head()"
      ],
      "execution_count": 23,
      "outputs": [
        {
          "output_type": "execute_result",
          "data": {
            "text/html": [
              "<div>\n",
              "<style scoped>\n",
              "    .dataframe tbody tr th:only-of-type {\n",
              "        vertical-align: middle;\n",
              "    }\n",
              "\n",
              "    .dataframe tbody tr th {\n",
              "        vertical-align: top;\n",
              "    }\n",
              "\n",
              "    .dataframe thead th {\n",
              "        text-align: right;\n",
              "    }\n",
              "</style>\n",
              "<table border=\"1\" class=\"dataframe\">\n",
              "  <thead>\n",
              "    <tr style=\"text-align: right;\">\n",
              "      <th></th>\n",
              "      <th>recency</th>\n",
              "      <th>frequency</th>\n",
              "      <th>monetary_value</th>\n",
              "      <th>R_Quartile</th>\n",
              "      <th>F_Quartile</th>\n",
              "      <th>M_Quartile</th>\n",
              "      <th>RFM_score</th>\n",
              "      <th>customer_grade</th>\n",
              "    </tr>\n",
              "    <tr>\n",
              "      <th>CUSTOMERNAME</th>\n",
              "      <th></th>\n",
              "      <th></th>\n",
              "      <th></th>\n",
              "      <th></th>\n",
              "      <th></th>\n",
              "      <th></th>\n",
              "      <th></th>\n",
              "      <th></th>\n",
              "    </tr>\n",
              "  </thead>\n",
              "  <tbody>\n",
              "  </tbody>\n",
              "</table>\n",
              "</div>"
            ],
            "text/plain": [
              "Empty DataFrame\n",
              "Columns: [recency, frequency, monetary_value, R_Quartile, F_Quartile, M_Quartile, RFM_score, customer_grade]\n",
              "Index: []"
            ]
          },
          "metadata": {
            "tags": []
          },
          "execution_count": 23
        }
      ]
    },
    {
      "cell_type": "code",
      "metadata": {
        "id": "TmYI71K86Xyo",
        "colab": {
          "base_uri": "https://localhost:8080/",
          "height": 0
        },
        "outputId": "c84b0fdf-d84c-44b7-b872-8ffa7446a3ba"
      },
      "source": [
        "# Almost Lost High Value Customers\n",
        "rfm_table[RFM_segment(3,1,1)].sort_values('recency', ascending=False).head()"
      ],
      "execution_count": 24,
      "outputs": [
        {
          "output_type": "execute_result",
          "data": {
            "text/html": [
              "<div>\n",
              "<style scoped>\n",
              "    .dataframe tbody tr th:only-of-type {\n",
              "        vertical-align: middle;\n",
              "    }\n",
              "\n",
              "    .dataframe tbody tr th {\n",
              "        vertical-align: top;\n",
              "    }\n",
              "\n",
              "    .dataframe thead th {\n",
              "        text-align: right;\n",
              "    }\n",
              "</style>\n",
              "<table border=\"1\" class=\"dataframe\">\n",
              "  <thead>\n",
              "    <tr style=\"text-align: right;\">\n",
              "      <th></th>\n",
              "      <th>recency</th>\n",
              "      <th>frequency</th>\n",
              "      <th>monetary_value</th>\n",
              "      <th>R_Quartile</th>\n",
              "      <th>F_Quartile</th>\n",
              "      <th>M_Quartile</th>\n",
              "      <th>RFM_score</th>\n",
              "      <th>customer_grade</th>\n",
              "    </tr>\n",
              "    <tr>\n",
              "      <th>CUSTOMERNAME</th>\n",
              "      <th></th>\n",
              "      <th></th>\n",
              "      <th></th>\n",
              "      <th></th>\n",
              "      <th></th>\n",
              "      <th></th>\n",
              "      <th></th>\n",
              "      <th></th>\n",
              "    </tr>\n",
              "  </thead>\n",
              "  <tbody>\n",
              "    <tr>\n",
              "      <th>Land of Toys Inc.</th>\n",
              "      <td>197</td>\n",
              "      <td>4</td>\n",
              "      <td>164069.44</td>\n",
              "      <td>3</td>\n",
              "      <td>1</td>\n",
              "      <td>1</td>\n",
              "      <td>5</td>\n",
              "      <td>B</td>\n",
              "    </tr>\n",
              "  </tbody>\n",
              "</table>\n",
              "</div>"
            ],
            "text/plain": [
              "                   recency  frequency  monetary_value  R_Quartile  F_Quartile  \\\n",
              "CUSTOMERNAME                                                                    \n",
              "Land of Toys Inc.      197          4       164069.44           3           1   \n",
              "\n",
              "                   M_Quartile  RFM_score customer_grade  \n",
              "CUSTOMERNAME                                             \n",
              "Land of Toys Inc.           1          5              B  "
            ]
          },
          "metadata": {
            "tags": []
          },
          "execution_count": 24
        }
      ]
    },
    {
      "cell_type": "code",
      "metadata": {
        "id": "F-LMuwEg6Xyt",
        "colab": {
          "base_uri": "https://localhost:8080/",
          "height": 0
        },
        "outputId": "f5cf0556-538a-437e-aa3f-a54a76e276b3"
      },
      "source": [
        "# Loyal Customers\n",
        "rfm_table[rfm_table['F_Quartile'] <= 2 ].sort_values('monetary_value',\n",
        "                                                     ascending=False).head()"
      ],
      "execution_count": 25,
      "outputs": [
        {
          "output_type": "execute_result",
          "data": {
            "text/html": [
              "<div>\n",
              "<style scoped>\n",
              "    .dataframe tbody tr th:only-of-type {\n",
              "        vertical-align: middle;\n",
              "    }\n",
              "\n",
              "    .dataframe tbody tr th {\n",
              "        vertical-align: top;\n",
              "    }\n",
              "\n",
              "    .dataframe thead th {\n",
              "        text-align: right;\n",
              "    }\n",
              "</style>\n",
              "<table border=\"1\" class=\"dataframe\">\n",
              "  <thead>\n",
              "    <tr style=\"text-align: right;\">\n",
              "      <th></th>\n",
              "      <th>recency</th>\n",
              "      <th>frequency</th>\n",
              "      <th>monetary_value</th>\n",
              "      <th>R_Quartile</th>\n",
              "      <th>F_Quartile</th>\n",
              "      <th>M_Quartile</th>\n",
              "      <th>RFM_score</th>\n",
              "      <th>customer_grade</th>\n",
              "    </tr>\n",
              "    <tr>\n",
              "      <th>CUSTOMERNAME</th>\n",
              "      <th></th>\n",
              "      <th></th>\n",
              "      <th></th>\n",
              "      <th></th>\n",
              "      <th></th>\n",
              "      <th></th>\n",
              "      <th></th>\n",
              "      <th></th>\n",
              "    </tr>\n",
              "  </thead>\n",
              "  <tbody>\n",
              "    <tr>\n",
              "      <th>Euro Shopping Channel</th>\n",
              "      <td>0</td>\n",
              "      <td>26</td>\n",
              "      <td>912294.11</td>\n",
              "      <td>1</td>\n",
              "      <td>1</td>\n",
              "      <td>1</td>\n",
              "      <td>3</td>\n",
              "      <td>A</td>\n",
              "    </tr>\n",
              "    <tr>\n",
              "      <th>Mini Gifts Distributors Ltd.</th>\n",
              "      <td>2</td>\n",
              "      <td>17</td>\n",
              "      <td>654858.06</td>\n",
              "      <td>1</td>\n",
              "      <td>1</td>\n",
              "      <td>1</td>\n",
              "      <td>3</td>\n",
              "      <td>A</td>\n",
              "    </tr>\n",
              "    <tr>\n",
              "      <th>Australian Collectors, Co.</th>\n",
              "      <td>183</td>\n",
              "      <td>5</td>\n",
              "      <td>200995.41</td>\n",
              "      <td>2</td>\n",
              "      <td>1</td>\n",
              "      <td>1</td>\n",
              "      <td>4</td>\n",
              "      <td>A</td>\n",
              "    </tr>\n",
              "    <tr>\n",
              "      <th>Muscle Machine Inc</th>\n",
              "      <td>181</td>\n",
              "      <td>4</td>\n",
              "      <td>197736.94</td>\n",
              "      <td>2</td>\n",
              "      <td>1</td>\n",
              "      <td>1</td>\n",
              "      <td>4</td>\n",
              "      <td>A</td>\n",
              "    </tr>\n",
              "    <tr>\n",
              "      <th>La Rochelle Gifts</th>\n",
              "      <td>0</td>\n",
              "      <td>4</td>\n",
              "      <td>180124.90</td>\n",
              "      <td>1</td>\n",
              "      <td>1</td>\n",
              "      <td>1</td>\n",
              "      <td>3</td>\n",
              "      <td>A</td>\n",
              "    </tr>\n",
              "  </tbody>\n",
              "</table>\n",
              "</div>"
            ],
            "text/plain": [
              "                              recency  frequency  monetary_value  R_Quartile  \\\n",
              "CUSTOMERNAME                                                                   \n",
              "Euro Shopping Channel               0         26       912294.11           1   \n",
              "Mini Gifts Distributors Ltd.        2         17       654858.06           1   \n",
              "Australian Collectors, Co.        183          5       200995.41           2   \n",
              "Muscle Machine Inc                181          4       197736.94           2   \n",
              "La Rochelle Gifts                   0          4       180124.90           1   \n",
              "\n",
              "                              F_Quartile  M_Quartile  RFM_score customer_grade  \n",
              "CUSTOMERNAME                                                                    \n",
              "Euro Shopping Channel                  1           1          3              A  \n",
              "Mini Gifts Distributors Ltd.           1           1          3              A  \n",
              "Australian Collectors, Co.             1           1          4              A  \n",
              "Muscle Machine Inc                     1           1          4              A  \n",
              "La Rochelle Gifts                      1           1          3              A  "
            ]
          },
          "metadata": {
            "tags": []
          },
          "execution_count": 25
        }
      ]
    },
    {
      "cell_type": "code",
      "metadata": {
        "id": "28kpLLWu9Y7K",
        "colab": {
          "base_uri": "https://localhost:8080/",
          "height": 0
        },
        "outputId": "1200c17a-bbf0-4bd5-8ac7-184cc7af5099"
      },
      "source": [
        "# New Customers\n",
        "rfm_table[RFM_segment(1,3)].sort_values('monetary_value', ascending=False)"
      ],
      "execution_count": 26,
      "outputs": [
        {
          "output_type": "execute_result",
          "data": {
            "text/html": [
              "<div>\n",
              "<style scoped>\n",
              "    .dataframe tbody tr th:only-of-type {\n",
              "        vertical-align: middle;\n",
              "    }\n",
              "\n",
              "    .dataframe tbody tr th {\n",
              "        vertical-align: top;\n",
              "    }\n",
              "\n",
              "    .dataframe thead th {\n",
              "        text-align: right;\n",
              "    }\n",
              "</style>\n",
              "<table border=\"1\" class=\"dataframe\">\n",
              "  <thead>\n",
              "    <tr style=\"text-align: right;\">\n",
              "      <th></th>\n",
              "      <th>recency</th>\n",
              "      <th>frequency</th>\n",
              "      <th>monetary_value</th>\n",
              "      <th>R_Quartile</th>\n",
              "      <th>F_Quartile</th>\n",
              "      <th>M_Quartile</th>\n",
              "      <th>RFM_score</th>\n",
              "      <th>customer_grade</th>\n",
              "    </tr>\n",
              "    <tr>\n",
              "      <th>CUSTOMERNAME</th>\n",
              "      <th></th>\n",
              "      <th></th>\n",
              "      <th></th>\n",
              "      <th></th>\n",
              "      <th></th>\n",
              "      <th></th>\n",
              "      <th></th>\n",
              "      <th></th>\n",
              "    </tr>\n",
              "  </thead>\n",
              "  <tbody>\n",
              "    <tr>\n",
              "      <th>L'ordine Souveniers</th>\n",
              "      <td>21</td>\n",
              "      <td>3</td>\n",
              "      <td>142601.33</td>\n",
              "      <td>1</td>\n",
              "      <td>3</td>\n",
              "      <td>1</td>\n",
              "      <td>5</td>\n",
              "      <td>B</td>\n",
              "    </tr>\n",
              "    <tr>\n",
              "      <th>UK Collectables, Ltd.</th>\n",
              "      <td>53</td>\n",
              "      <td>3</td>\n",
              "      <td>118008.27</td>\n",
              "      <td>1</td>\n",
              "      <td>3</td>\n",
              "      <td>2</td>\n",
              "      <td>6</td>\n",
              "      <td>B</td>\n",
              "    </tr>\n",
              "    <tr>\n",
              "      <th>Gift Depot Inc.</th>\n",
              "      <td>26</td>\n",
              "      <td>3</td>\n",
              "      <td>101894.79</td>\n",
              "      <td>1</td>\n",
              "      <td>3</td>\n",
              "      <td>2</td>\n",
              "      <td>6</td>\n",
              "      <td>B</td>\n",
              "    </tr>\n",
              "    <tr>\n",
              "      <th>Auto Canal Petit</th>\n",
              "      <td>54</td>\n",
              "      <td>3</td>\n",
              "      <td>93170.66</td>\n",
              "      <td>1</td>\n",
              "      <td>3</td>\n",
              "      <td>2</td>\n",
              "      <td>6</td>\n",
              "      <td>B</td>\n",
              "    </tr>\n",
              "    <tr>\n",
              "      <th>Tekni Collectables Inc.</th>\n",
              "      <td>58</td>\n",
              "      <td>3</td>\n",
              "      <td>83228.19</td>\n",
              "      <td>1</td>\n",
              "      <td>3</td>\n",
              "      <td>3</td>\n",
              "      <td>7</td>\n",
              "      <td>B</td>\n",
              "    </tr>\n",
              "    <tr>\n",
              "      <th>Gifts4AllAges.com</th>\n",
              "      <td>25</td>\n",
              "      <td>3</td>\n",
              "      <td>83209.88</td>\n",
              "      <td>1</td>\n",
              "      <td>3</td>\n",
              "      <td>3</td>\n",
              "      <td>7</td>\n",
              "      <td>B</td>\n",
              "    </tr>\n",
              "    <tr>\n",
              "      <th>Mini Caravy</th>\n",
              "      <td>47</td>\n",
              "      <td>3</td>\n",
              "      <td>80438.48</td>\n",
              "      <td>1</td>\n",
              "      <td>3</td>\n",
              "      <td>3</td>\n",
              "      <td>7</td>\n",
              "      <td>B</td>\n",
              "    </tr>\n",
              "    <tr>\n",
              "      <th>Lyon Souveniers</th>\n",
              "      <td>75</td>\n",
              "      <td>3</td>\n",
              "      <td>78570.34</td>\n",
              "      <td>1</td>\n",
              "      <td>3</td>\n",
              "      <td>3</td>\n",
              "      <td>7</td>\n",
              "      <td>B</td>\n",
              "    </tr>\n",
              "    <tr>\n",
              "      <th>Petit Auto</th>\n",
              "      <td>1</td>\n",
              "      <td>3</td>\n",
              "      <td>74972.52</td>\n",
              "      <td>1</td>\n",
              "      <td>3</td>\n",
              "      <td>3</td>\n",
              "      <td>7</td>\n",
              "      <td>B</td>\n",
              "    </tr>\n",
              "    <tr>\n",
              "      <th>Quebec Home Shopping Network</th>\n",
              "      <td>30</td>\n",
              "      <td>3</td>\n",
              "      <td>74204.79</td>\n",
              "      <td>1</td>\n",
              "      <td>3</td>\n",
              "      <td>3</td>\n",
              "      <td>7</td>\n",
              "      <td>B</td>\n",
              "    </tr>\n",
              "    <tr>\n",
              "      <th>Alpha Cognac</th>\n",
              "      <td>64</td>\n",
              "      <td>3</td>\n",
              "      <td>70488.44</td>\n",
              "      <td>1</td>\n",
              "      <td>3</td>\n",
              "      <td>3</td>\n",
              "      <td>7</td>\n",
              "      <td>B</td>\n",
              "    </tr>\n",
              "    <tr>\n",
              "      <th>Australian Collectables, Ltd</th>\n",
              "      <td>22</td>\n",
              "      <td>3</td>\n",
              "      <td>64591.46</td>\n",
              "      <td>1</td>\n",
              "      <td>3</td>\n",
              "      <td>4</td>\n",
              "      <td>8</td>\n",
              "      <td>C</td>\n",
              "    </tr>\n",
              "  </tbody>\n",
              "</table>\n",
              "</div>"
            ],
            "text/plain": [
              "                              recency  frequency  monetary_value  R_Quartile  \\\n",
              "CUSTOMERNAME                                                                   \n",
              "L'ordine Souveniers                21          3       142601.33           1   \n",
              "UK Collectables, Ltd.              53          3       118008.27           1   \n",
              "Gift Depot Inc.                    26          3       101894.79           1   \n",
              "Auto Canal Petit                   54          3        93170.66           1   \n",
              "Tekni Collectables Inc.            58          3        83228.19           1   \n",
              "Gifts4AllAges.com                  25          3        83209.88           1   \n",
              "Mini Caravy                        47          3        80438.48           1   \n",
              "Lyon Souveniers                    75          3        78570.34           1   \n",
              "Petit Auto                          1          3        74972.52           1   \n",
              "Quebec Home Shopping Network       30          3        74204.79           1   \n",
              "Alpha Cognac                       64          3        70488.44           1   \n",
              "Australian Collectables, Ltd       22          3        64591.46           1   \n",
              "\n",
              "                              F_Quartile  M_Quartile  RFM_score customer_grade  \n",
              "CUSTOMERNAME                                                                    \n",
              "L'ordine Souveniers                    3           1          5              B  \n",
              "UK Collectables, Ltd.                  3           2          6              B  \n",
              "Gift Depot Inc.                        3           2          6              B  \n",
              "Auto Canal Petit                       3           2          6              B  \n",
              "Tekni Collectables Inc.                3           3          7              B  \n",
              "Gifts4AllAges.com                      3           3          7              B  \n",
              "Mini Caravy                            3           3          7              B  \n",
              "Lyon Souveniers                        3           3          7              B  \n",
              "Petit Auto                             3           3          7              B  \n",
              "Quebec Home Shopping Network           3           3          7              B  \n",
              "Alpha Cognac                           3           3          7              B  \n",
              "Australian Collectables, Ltd           3           4          8              C  "
            ]
          },
          "metadata": {
            "tags": []
          },
          "execution_count": 26
        }
      ]
    },
    {
      "cell_type": "markdown",
      "metadata": {
        "id": "1fE8pxlRTipl"
      },
      "source": [
        "We can also see how our customer base breaks down and what the average customer at each grade level looks like."
      ]
    },
    {
      "cell_type": "code",
      "metadata": {
        "id": "gx20V_r86Xy5",
        "colab": {
          "base_uri": "https://localhost:8080/",
          "height": 0
        },
        "outputId": "4ad12161-0563-4cfb-f5ff-0b59e9adfc14"
      },
      "source": [
        "rfm_table['customer_grade'].value_counts(normalize=True).plot(kind='bar')\n",
        "plt.title('Customer Grade Distribution')\n",
        "plt.xlabel('Customer Grade')\n",
        "plt.ylabel('% Proportion')\n",
        "plt.show()"
      ],
      "execution_count": 27,
      "outputs": [
        {
          "output_type": "display_data",
          "data": {
            "image/png": "[encoded data removed]",
            "text/plain": [
              "<Figure size 432x288 with 1 Axes>"
            ]
          },
          "metadata": {
            "tags": [],
            "needs_background": "light"
          }
        }
      ]
    },
    {
      "cell_type": "code",
      "metadata": {
        "id": "paBO9qlmCqcI",
        "colab": {
          "base_uri": "https://localhost:8080/"
        },
        "outputId": "07440c06-7041-47de-fefe-ed81ef6dc6f9"
      },
      "source": [
        "rfm_level_agg = rfm_table.groupby(['customer_grade']).agg({\n",
        "    'recency': 'mean',\n",
        "    'frequency': 'mean',\n",
        "    'monetary_value':['mean','count']}).round(1)\n",
        "\n",
        "print(rfm_level_agg)"
      ],
      "execution_count": 28,
      "outputs": [
        {
          "output_type": "stream",
          "text": [
            "               recency frequency monetary_value      \n",
            "                  mean      mean           mean count\n",
            "customer_grade                                       \n",
            "A                 60.2       6.3       226077.9    17\n",
            "B                115.3       3.2       103177.5    28\n",
            "C                205.8       2.6        79398.3    28\n",
            "D                353.4       1.9        56693.8    19\n"
          ],
          "name": "stdout"
        }
      ]
    },
    {
      "cell_type": "markdown",
      "metadata": {
        "id": "wtuNscPPTxiF"
      },
      "source": [
        "RFM Analysis may leave some value on the table but it's a trade off for ease of use and understanding. It allows your marketing and sales staff actionable insights without having to rely on a more complex segmentation process that may turn into a black box for them."
      ]
    },
    {
      "cell_type": "markdown",
      "metadata": {
        "id": "3EU6KfUfFgDz"
      },
      "source": [
        "# K-Means Segmentation\n"
      ]
    },
    {
      "cell_type": "markdown",
      "metadata": {
        "id": "N0kqSP1TUoh2"
      },
      "source": [
        "K-Means clustering is a method for customer segmentation rooted in machine learning. It can be used on a large variety of features, but for comparison we will be using it with just our RFM features to see how it stacks up."
      ]
    },
    {
      "cell_type": "markdown",
      "metadata": {
        "id": "IF3HqpfDUioz"
      },
      "source": [
        "KMeans assumptions that need to be checked for:\r\n",
        "- All variables have symmetrical (Normal) Distribution\r\n",
        "- All Variables have same average value(approx)\r\n",
        "- All Variables have same variance(approx)"
      ]
    },
    {
      "cell_type": "code",
      "metadata": {
        "id": "oMIXdyrfE8Yo",
        "colab": {
          "base_uri": "https://localhost:8080/",
          "height": 809
        },
        "outputId": "da869484-011b-42a3-a951-667bb066e0e1"
      },
      "source": [
        "rfm = ['recency', 'frequency', 'monetary_value']\n",
        "\n",
        "for feature in rfm:\n",
        "  rfm_table[feature].hist()\n",
        "  plt.title(feature)\n",
        "  plt.ylabel(feature)\n",
        "  plt.show()"
      ],
      "execution_count": 29,
      "outputs": [
        {
          "output_type": "display_data",
          "data": {
            "image/png": "[encoded data removed]",
            "text/plain": [
              "<Figure size 432x288 with 1 Axes>"
            ]
          },
          "metadata": {
            "tags": [],
            "needs_background": "light"
          }
        },
        {
          "output_type": "display_data",
          "data": {
            "image/png": "[encoded data removed]",
            "text/plain": [
              "<Figure size 432x288 with 1 Axes>"
            ]
          },
          "metadata": {
            "tags": [],
            "needs_background": "light"
          }
        },
        {
          "output_type": "display_data",
          "data": {
            "image/png": "[encoded data removed]",
            "text/plain": [
              "<Figure size 432x288 with 1 Axes>"
            ]
          },
          "metadata": {
            "tags": [],
            "needs_background": "light"
          }
        }
      ]
    },
    {
      "cell_type": "code",
      "metadata": {
        "id": "BD5gdayxFu5P",
        "colab": {
          "base_uri": "https://localhost:8080/",
          "height": 228
        },
        "outputId": "24bf0ea8-2d6c-45e4-cb8c-5e6b88123322"
      },
      "source": [
        "log_rfm = np.log(rfm_table[rfm])\n",
        "log_rfm['recency'] = log_rfm['recency'].replace(-np.inf, 0)\n",
        "log_rfm.head()"
      ],
      "execution_count": 30,
      "outputs": [
        {
          "output_type": "execute_result",
          "data": {
            "text/html": [
              "<div>\n",
              "<style scoped>\n",
              "    .dataframe tbody tr th:only-of-type {\n",
              "        vertical-align: middle;\n",
              "    }\n",
              "\n",
              "    .dataframe tbody tr th {\n",
              "        vertical-align: top;\n",
              "    }\n",
              "\n",
              "    .dataframe thead th {\n",
              "        text-align: right;\n",
              "    }\n",
              "</style>\n",
              "<table border=\"1\" class=\"dataframe\">\n",
              "  <thead>\n",
              "    <tr style=\"text-align: right;\">\n",
              "      <th></th>\n",
              "      <th>recency</th>\n",
              "      <th>frequency</th>\n",
              "      <th>monetary_value</th>\n",
              "    </tr>\n",
              "    <tr>\n",
              "      <th>CUSTOMERNAME</th>\n",
              "      <th></th>\n",
              "      <th></th>\n",
              "      <th></th>\n",
              "    </tr>\n",
              "  </thead>\n",
              "  <tbody>\n",
              "    <tr>\n",
              "      <th>AV Stores, Co.</th>\n",
              "      <td>5.273000</td>\n",
              "      <td>1.098612</td>\n",
              "      <td>11.969133</td>\n",
              "    </tr>\n",
              "    <tr>\n",
              "      <th>Alpha Cognac</th>\n",
              "      <td>4.158883</td>\n",
              "      <td>1.098612</td>\n",
              "      <td>11.163204</td>\n",
              "    </tr>\n",
              "    <tr>\n",
              "      <th>Amica Models &amp; Co.</th>\n",
              "      <td>5.575949</td>\n",
              "      <td>0.693147</td>\n",
              "      <td>11.452297</td>\n",
              "    </tr>\n",
              "    <tr>\n",
              "      <th>Anna's Decorations, Ltd</th>\n",
              "      <td>4.418841</td>\n",
              "      <td>1.386294</td>\n",
              "      <td>11.944683</td>\n",
              "    </tr>\n",
              "    <tr>\n",
              "      <th>Atelier graphique</th>\n",
              "      <td>5.231109</td>\n",
              "      <td>1.098612</td>\n",
              "      <td>10.093279</td>\n",
              "    </tr>\n",
              "  </tbody>\n",
              "</table>\n",
              "</div>"
            ],
            "text/plain": [
              "                          recency  frequency  monetary_value\n",
              "CUSTOMERNAME                                                \n",
              "AV Stores, Co.           5.273000   1.098612       11.969133\n",
              "Alpha Cognac             4.158883   1.098612       11.163204\n",
              "Amica Models & Co.       5.575949   0.693147       11.452297\n",
              "Anna's Decorations, Ltd  4.418841   1.386294       11.944683\n",
              "Atelier graphique        5.231109   1.098612       10.093279"
            ]
          },
          "metadata": {
            "tags": []
          },
          "execution_count": 30
        }
      ]
    },
    {
      "cell_type": "code",
      "metadata": {
        "id": "lEO_TiHgG5P5",
        "colab": {
          "base_uri": "https://localhost:8080/",
          "height": 809
        },
        "outputId": "8bceb726-af4a-4383-b0eb-a9fb273edbff"
      },
      "source": [
        "for feature in rfm:\n",
        "  log_rfm[feature].hist()\n",
        "  plt.title(feature)\n",
        "  plt.ylabel(feature)\n",
        "  plt.show()"
      ],
      "execution_count": 31,
      "outputs": [
        {
          "output_type": "display_data",
          "data": {
            "image/png": "[encoded data removed]",
            "text/plain": [
              "<Figure size 432x288 with 1 Axes>"
            ]
          },
          "metadata": {
            "tags": [],
            "needs_background": "light"
          }
        },
        {
          "output_type": "display_data",
          "data": {
            "image/png": "[encoded data removed]",
            "text/plain": [
              "<Figure size 432x288 with 1 Axes>"
            ]
          },
          "metadata": {
            "tags": [],
            "needs_background": "light"
          }
        },
        {
          "output_type": "display_data",
          "data": {
            "image/png": "[encoded data removed]",
            "text/plain": [
              "<Figure size 432x288 with 1 Axes>"
            ]
          },
          "metadata": {
            "tags": [],
            "needs_background": "light"
          }
        }
      ]
    },
    {
      "cell_type": "code",
      "metadata": {
        "id": "Cc8Oo9jKJMHV",
        "colab": {
          "base_uri": "https://localhost:8080/",
          "height": 288
        },
        "outputId": "35775b98-bfd9-4fb8-9d93-92d498e926a0"
      },
      "source": [
        "scaler = StandardScaler()\n",
        "scaler.fit(log_rfm)\n",
        "\n",
        "rfm_normalized = scaler.transform(log_rfm)\n",
        "rfm_normalized = pd.DataFrame(rfm_normalized, index=log_rfm.index, columns=log_rfm.columns)\n",
        "rfm_normalized.describe().round()"
      ],
      "execution_count": 32,
      "outputs": [
        {
          "output_type": "execute_result",
          "data": {
            "text/html": [
              "<div>\n",
              "<style scoped>\n",
              "    .dataframe tbody tr th:only-of-type {\n",
              "        vertical-align: middle;\n",
              "    }\n",
              "\n",
              "    .dataframe tbody tr th {\n",
              "        vertical-align: top;\n",
              "    }\n",
              "\n",
              "    .dataframe thead th {\n",
              "        text-align: right;\n",
              "    }\n",
              "</style>\n",
              "<table border=\"1\" class=\"dataframe\">\n",
              "  <thead>\n",
              "    <tr style=\"text-align: right;\">\n",
              "      <th></th>\n",
              "      <th>recency</th>\n",
              "      <th>frequency</th>\n",
              "      <th>monetary_value</th>\n",
              "    </tr>\n",
              "  </thead>\n",
              "  <tbody>\n",
              "    <tr>\n",
              "      <th>count</th>\n",
              "      <td>92.0</td>\n",
              "      <td>92.0</td>\n",
              "      <td>92.0</td>\n",
              "    </tr>\n",
              "    <tr>\n",
              "      <th>mean</th>\n",
              "      <td>-0.0</td>\n",
              "      <td>0.0</td>\n",
              "      <td>0.0</td>\n",
              "    </tr>\n",
              "    <tr>\n",
              "      <th>std</th>\n",
              "      <td>1.0</td>\n",
              "      <td>1.0</td>\n",
              "      <td>1.0</td>\n",
              "    </tr>\n",
              "    <tr>\n",
              "      <th>min</th>\n",
              "      <td>-3.0</td>\n",
              "      <td>-3.0</td>\n",
              "      <td>-4.0</td>\n",
              "    </tr>\n",
              "    <tr>\n",
              "      <th>25%</th>\n",
              "      <td>-0.0</td>\n",
              "      <td>-1.0</td>\n",
              "      <td>-0.0</td>\n",
              "    </tr>\n",
              "    <tr>\n",
              "      <th>50%</th>\n",
              "      <td>0.0</td>\n",
              "      <td>0.0</td>\n",
              "      <td>-0.0</td>\n",
              "    </tr>\n",
              "    <tr>\n",
              "      <th>75%</th>\n",
              "      <td>1.0</td>\n",
              "      <td>0.0</td>\n",
              "      <td>1.0</td>\n",
              "    </tr>\n",
              "    <tr>\n",
              "      <th>max</th>\n",
              "      <td>1.0</td>\n",
              "      <td>5.0</td>\n",
              "      <td>4.0</td>\n",
              "    </tr>\n",
              "  </tbody>\n",
              "</table>\n",
              "</div>"
            ],
            "text/plain": [
              "       recency  frequency  monetary_value\n",
              "count     92.0       92.0            92.0\n",
              "mean      -0.0        0.0             0.0\n",
              "std        1.0        1.0             1.0\n",
              "min       -3.0       -3.0            -4.0\n",
              "25%       -0.0       -1.0            -0.0\n",
              "50%        0.0        0.0            -0.0\n",
              "75%        1.0        0.0             1.0\n",
              "max        1.0        5.0             4.0"
            ]
          },
          "metadata": {
            "tags": []
          },
          "execution_count": 32
        }
      ]
    },
    {
      "cell_type": "markdown",
      "metadata": {
        "id": "4VWsc_lBVe31"
      },
      "source": [
        "Once assumptions are checked and corrected we need to decide how many clusters we will have. Based on the elbow plot, it looks like 4 or 5 is optimal. Again, for comparison, we will choose 4 clusters."
      ]
    },
    {
      "cell_type": "code",
      "metadata": {
        "id": "HVh5oPKtKy8L",
        "colab": {
          "base_uri": "https://localhost:8080/",
          "height": 295
        },
        "outputId": "b358f0bf-9d22-4d2b-efab-f4a6ef4bb320"
      },
      "source": [
        "sse={}\n",
        "for k in range(1, 21):\n",
        "    kmeans = KMeans(n_clusters=k, random_state=1)\n",
        "    kmeans.fit(rfm_normalized)\n",
        "    sse[k] = kmeans.inertia_ \n",
        "\n",
        "sns.pointplot(x=list(sse.keys()), y=list(sse.values()))\n",
        "plt.title('The Elbow Method')\n",
        "plt.xlabel('k')\n",
        "plt.ylabel('SSE')\n",
        "plt.show()"
      ],
      "execution_count": 33,
      "outputs": [
        {
          "output_type": "display_data",
          "data": {
            "image/png": "[encoded data removed]",
            "text/plain": [
              "<Figure size 432x288 with 1 Axes>"
            ]
          },
          "metadata": {
            "tags": [],
            "needs_background": "light"
          }
        }
      ]
    },
    {
      "cell_type": "code",
      "metadata": {
        "id": "IUNitexyrx9A",
        "colab": {
          "base_uri": "https://localhost:8080/",
          "height": 228
        },
        "outputId": "9c96ad01-634f-4dcd-c892-eb229a494676"
      },
      "source": [
        "kmeans = KMeans(n_clusters=4, random_state=1) \n",
        "kmeans.fit(rfm_normalized)\n",
        "cluster_labels = kmeans.labels_\n",
        "\n",
        "# Assigning Cluster Labels to Raw Data\n",
        "# Create a DataFrame by adding a new cluster label column\n",
        "rfm_table = rfm_table.assign(Cluster=cluster_labels)\n",
        "rfm_table.head()"
      ],
      "execution_count": 34,
      "outputs": [
        {
          "output_type": "execute_result",
          "data": {
            "text/html": [
              "<div>\n",
              "<style scoped>\n",
              "    .dataframe tbody tr th:only-of-type {\n",
              "        vertical-align: middle;\n",
              "    }\n",
              "\n",
              "    .dataframe tbody tr th {\n",
              "        vertical-align: top;\n",
              "    }\n",
              "\n",
              "    .dataframe thead th {\n",
              "        text-align: right;\n",
              "    }\n",
              "</style>\n",
              "<table border=\"1\" class=\"dataframe\">\n",
              "  <thead>\n",
              "    <tr style=\"text-align: right;\">\n",
              "      <th></th>\n",
              "      <th>recency</th>\n",
              "      <th>frequency</th>\n",
              "      <th>monetary_value</th>\n",
              "      <th>R_Quartile</th>\n",
              "      <th>F_Quartile</th>\n",
              "      <th>M_Quartile</th>\n",
              "      <th>RFM_score</th>\n",
              "      <th>customer_grade</th>\n",
              "      <th>Cluster</th>\n",
              "    </tr>\n",
              "    <tr>\n",
              "      <th>CUSTOMERNAME</th>\n",
              "      <th></th>\n",
              "      <th></th>\n",
              "      <th></th>\n",
              "      <th></th>\n",
              "      <th></th>\n",
              "      <th></th>\n",
              "      <th></th>\n",
              "      <th></th>\n",
              "      <th></th>\n",
              "    </tr>\n",
              "  </thead>\n",
              "  <tbody>\n",
              "    <tr>\n",
              "      <th>AV Stores, Co.</th>\n",
              "      <td>195</td>\n",
              "      <td>3</td>\n",
              "      <td>157807.81</td>\n",
              "      <td>3</td>\n",
              "      <td>3</td>\n",
              "      <td>1</td>\n",
              "      <td>7</td>\n",
              "      <td>B</td>\n",
              "      <td>1</td>\n",
              "    </tr>\n",
              "    <tr>\n",
              "      <th>Alpha Cognac</th>\n",
              "      <td>64</td>\n",
              "      <td>3</td>\n",
              "      <td>70488.44</td>\n",
              "      <td>1</td>\n",
              "      <td>3</td>\n",
              "      <td>3</td>\n",
              "      <td>7</td>\n",
              "      <td>B</td>\n",
              "      <td>1</td>\n",
              "    </tr>\n",
              "    <tr>\n",
              "      <th>Amica Models &amp; Co.</th>\n",
              "      <td>264</td>\n",
              "      <td>2</td>\n",
              "      <td>94117.26</td>\n",
              "      <td>4</td>\n",
              "      <td>4</td>\n",
              "      <td>2</td>\n",
              "      <td>10</td>\n",
              "      <td>C</td>\n",
              "      <td>0</td>\n",
              "    </tr>\n",
              "    <tr>\n",
              "      <th>Anna's Decorations, Ltd</th>\n",
              "      <td>83</td>\n",
              "      <td>4</td>\n",
              "      <td>153996.13</td>\n",
              "      <td>2</td>\n",
              "      <td>1</td>\n",
              "      <td>1</td>\n",
              "      <td>4</td>\n",
              "      <td>A</td>\n",
              "      <td>1</td>\n",
              "    </tr>\n",
              "    <tr>\n",
              "      <th>Atelier graphique</th>\n",
              "      <td>187</td>\n",
              "      <td>3</td>\n",
              "      <td>24179.96</td>\n",
              "      <td>3</td>\n",
              "      <td>3</td>\n",
              "      <td>4</td>\n",
              "      <td>10</td>\n",
              "      <td>C</td>\n",
              "      <td>0</td>\n",
              "    </tr>\n",
              "  </tbody>\n",
              "</table>\n",
              "</div>"
            ],
            "text/plain": [
              "                         recency  frequency  monetary_value  R_Quartile  \\\n",
              "CUSTOMERNAME                                                              \n",
              "AV Stores, Co.               195          3       157807.81           3   \n",
              "Alpha Cognac                  64          3        70488.44           1   \n",
              "Amica Models & Co.           264          2        94117.26           4   \n",
              "Anna's Decorations, Ltd       83          4       153996.13           2   \n",
              "Atelier graphique            187          3        24179.96           3   \n",
              "\n",
              "                         F_Quartile  M_Quartile  RFM_score customer_grade  \\\n",
              "CUSTOMERNAME                                                                \n",
              "AV Stores, Co.                    3           1          7              B   \n",
              "Alpha Cognac                      3           3          7              B   \n",
              "Amica Models & Co.                4           2         10              C   \n",
              "Anna's Decorations, Ltd           1           1          4              A   \n",
              "Atelier graphique                 3           4         10              C   \n",
              "\n",
              "                         Cluster  \n",
              "CUSTOMERNAME                      \n",
              "AV Stores, Co.                 1  \n",
              "Alpha Cognac                   1  \n",
              "Amica Models & Co.             0  \n",
              "Anna's Decorations, Ltd        1  \n",
              "Atelier graphique              0  "
            ]
          },
          "metadata": {
            "tags": []
          },
          "execution_count": 34
        }
      ]
    },
    {
      "cell_type": "code",
      "metadata": {
        "id": "TITiiO7FvJ1g",
        "colab": {
          "base_uri": "https://localhost:8080/",
          "height": 228
        },
        "outputId": "460f75eb-5107-40f2-d90a-113141b0e7e5"
      },
      "source": [
        "grouped = rfm_table.groupby(['Cluster'])\n",
        "\n",
        "# Calculate average RFM values and segment sizes per cluster value\n",
        "grouped.agg({\n",
        "    'recency': 'mean',\n",
        "    'frequency': 'mean',\n",
        "    'monetary_value': ['mean', 'count']\n",
        "  }).round(1)"
      ],
      "execution_count": 35,
      "outputs": [
        {
          "output_type": "execute_result",
          "data": {
            "text/html": [
              "<div>\n",
              "<style scoped>\n",
              "    .dataframe tbody tr th:only-of-type {\n",
              "        vertical-align: middle;\n",
              "    }\n",
              "\n",
              "    .dataframe tbody tr th {\n",
              "        vertical-align: top;\n",
              "    }\n",
              "\n",
              "    .dataframe thead tr th {\n",
              "        text-align: left;\n",
              "    }\n",
              "\n",
              "    .dataframe thead tr:last-of-type th {\n",
              "        text-align: right;\n",
              "    }\n",
              "</style>\n",
              "<table border=\"1\" class=\"dataframe\">\n",
              "  <thead>\n",
              "    <tr>\n",
              "      <th></th>\n",
              "      <th>recency</th>\n",
              "      <th>frequency</th>\n",
              "      <th colspan=\"2\" halign=\"left\">monetary_value</th>\n",
              "    </tr>\n",
              "    <tr>\n",
              "      <th></th>\n",
              "      <th>mean</th>\n",
              "      <th>mean</th>\n",
              "      <th>mean</th>\n",
              "      <th>count</th>\n",
              "    </tr>\n",
              "    <tr>\n",
              "      <th>Cluster</th>\n",
              "      <th></th>\n",
              "      <th></th>\n",
              "      <th></th>\n",
              "      <th></th>\n",
              "    </tr>\n",
              "  </thead>\n",
              "  <tbody>\n",
              "    <tr>\n",
              "      <th>0</th>\n",
              "      <td>298.4</td>\n",
              "      <td>2.1</td>\n",
              "      <td>62728.6</td>\n",
              "      <td>33</td>\n",
              "    </tr>\n",
              "    <tr>\n",
              "      <th>1</th>\n",
              "      <td>131.9</td>\n",
              "      <td>3.4</td>\n",
              "      <td>109939.0</td>\n",
              "      <td>52</td>\n",
              "    </tr>\n",
              "    <tr>\n",
              "      <th>2</th>\n",
              "      <td>1.0</td>\n",
              "      <td>21.5</td>\n",
              "      <td>783576.1</td>\n",
              "      <td>2</td>\n",
              "    </tr>\n",
              "    <tr>\n",
              "      <th>3</th>\n",
              "      <td>3.6</td>\n",
              "      <td>3.8</td>\n",
              "      <td>135721.0</td>\n",
              "      <td>5</td>\n",
              "    </tr>\n",
              "  </tbody>\n",
              "</table>\n",
              "</div>"
            ],
            "text/plain": [
              "        recency frequency monetary_value      \n",
              "           mean      mean           mean count\n",
              "Cluster                                       \n",
              "0         298.4       2.1        62728.6    33\n",
              "1         131.9       3.4       109939.0    52\n",
              "2           1.0      21.5       783576.1     2\n",
              "3           3.6       3.8       135721.0     5"
            ]
          },
          "metadata": {
            "tags": []
          },
          "execution_count": 35
        }
      ]
    },
    {
      "cell_type": "markdown",
      "metadata": {
        "id": "2KYv3sUeWtzU"
      },
      "source": [
        "Comparing against the grades we assigned earlier we see similar clusters between the two but the K-means clusters are more narrowly defined."
      ]
    },
    {
      "cell_type": "code",
      "metadata": {
        "id": "FCOkWlfwxdlJ",
        "colab": {
          "base_uri": "https://localhost:8080/",
          "height": 296
        },
        "outputId": "077719a0-a5d3-4221-fa50-1f0f95fd029a"
      },
      "source": [
        "rfm_melt = pd.melt(rfm_table.reset_index(), id_vars=['CUSTOMERNAME', 'Cluster'],\n",
        "                   value_vars=['recency', 'frequency', 'monetary_value'], \n",
        "                   var_name='Metric', value_name='Value')\n",
        "\n",
        "sns.lineplot(data=rfm_melt, x='Metric', y='Value', hue='Cluster')\n",
        "plt.title('Snake plot of normalized variables')\n",
        "plt.xlabel('Metric')\n",
        "plt.ylabel('Value')\n",
        "plt.show()"
      ],
      "execution_count": 36,
      "outputs": [
        {
          "output_type": "display_data",
          "data": {
            "image/png": "[encoded data removed]",
            "text/plain": [
              "<Figure size 432x288 with 1 Axes>"
            ]
          },
          "metadata": {
            "tags": [],
            "needs_background": "light"
          }
        }
      ]
    },
    {
      "cell_type": "code",
      "metadata": {
        "id": "ZxBqjEAkzKSg",
        "colab": {
          "base_uri": "https://localhost:8080/",
          "height": 296
        },
        "outputId": "9967eb14-dd58-4001-970b-6f0c67788de2"
      },
      "source": [
        "rfm_melt = pd.melt(rfm_table.reset_index(), id_vars=['CUSTOMERNAME', 'customer_grade'],\n",
        "                   value_vars=['recency', 'frequency', 'monetary_value'], \n",
        "                   var_name='Metric', value_name='Value')\n",
        "\n",
        "sns.lineplot(data=rfm_melt, x='Metric', y='Value', hue='customer_grade')\n",
        "plt.title('Snake plot of normalized variables')\n",
        "plt.xlabel('Metric')\n",
        "plt.ylabel('Value')\n",
        "plt.show()"
      ],
      "execution_count": 37,
      "outputs": [
        {
          "output_type": "display_data",
          "data": {
            "image/png": "[encoded data removed]",
            "text/plain": [
              "<Figure size 432x288 with 1 Axes>"
            ]
          },
          "metadata": {
            "tags": [],
            "needs_background": "light"
          }
        }
      ]
    },
    {
      "cell_type": "code",
      "metadata": {
        "id": "eichPNo04ov8",
        "colab": {
          "base_uri": "https://localhost:8080/",
          "height": 282
        },
        "outputId": "b06c8773-d205-4fd1-91b7-b30a07b0ac63"
      },
      "source": [
        "# the mean value in total \n",
        "total_avg = rfm_table.iloc[:, 0:3].mean()\n",
        "cluster_avg = rfm_table.groupby('customer_grade').mean().iloc[:, 0:3]\n",
        "prop_rfm = cluster_avg/total_avg - 1# heatmap with RFM\n",
        "sns.heatmap(prop_rfm, cmap= 'Oranges', fmt= '.2f', annot = True)\n",
        "plt.title('Heatmap of RFM quantile')\n",
        "plt.show()"
      ],
      "execution_count": 38,
      "outputs": [
        {
          "output_type": "display_data",
          "data": {
            "image/png": "[encoded data removed]",
            "text/plain": [
              "<Figure size 432x288 with 2 Axes>"
            ]
          },
          "metadata": {
            "tags": [],
            "needs_background": "light"
          }
        }
      ]
    },
    {
      "cell_type": "code",
      "metadata": {
        "id": "ClM2m3A47W05",
        "colab": {
          "base_uri": "https://localhost:8080/",
          "height": 282
        },
        "outputId": "02a86899-136d-4d1a-8fa8-4fc319da8c61"
      },
      "source": [
        "# calculate the proportional gap with total mean\n",
        "cluster_avg_K = rfm_table.groupby('Cluster').mean().iloc[:, 0:3]\n",
        "prop_rfm_K = cluster_avg_K/total_avg - 1# heatmap with K-means\n",
        "sns.heatmap(prop_rfm_K, cmap= 'Oranges', fmt= '.2f', annot = True)\n",
        "plt.title('Heatmap of K-Means')\n",
        "plt.show()"
      ],
      "execution_count": 39,
      "outputs": [
        {
          "output_type": "display_data",
          "data": {
            "image/png": "[encoded data removed]",
            "text/plain": [
              "<Figure size 432x288 with 2 Axes>"
            ]
          },
          "metadata": {
            "tags": [],
            "needs_background": "light"
          }
        }
      ]
    },
    {
      "cell_type": "code",
      "metadata": {
        "id": "VZ6oruoJ8dyI",
        "colab": {
          "base_uri": "https://localhost:8080/",
          "height": 228
        },
        "outputId": "f693e41a-d75c-4305-90bb-51ad1b69f941"
      },
      "source": [
        "rfm_table.head()"
      ],
      "execution_count": 40,
      "outputs": [
        {
          "output_type": "execute_result",
          "data": {
            "text/html": [
              "<div>\n",
              "<style scoped>\n",
              "    .dataframe tbody tr th:only-of-type {\n",
              "        vertical-align: middle;\n",
              "    }\n",
              "\n",
              "    .dataframe tbody tr th {\n",
              "        vertical-align: top;\n",
              "    }\n",
              "\n",
              "    .dataframe thead th {\n",
              "        text-align: right;\n",
              "    }\n",
              "</style>\n",
              "<table border=\"1\" class=\"dataframe\">\n",
              "  <thead>\n",
              "    <tr style=\"text-align: right;\">\n",
              "      <th></th>\n",
              "      <th>recency</th>\n",
              "      <th>frequency</th>\n",
              "      <th>monetary_value</th>\n",
              "      <th>R_Quartile</th>\n",
              "      <th>F_Quartile</th>\n",
              "      <th>M_Quartile</th>\n",
              "      <th>RFM_score</th>\n",
              "      <th>customer_grade</th>\n",
              "      <th>Cluster</th>\n",
              "    </tr>\n",
              "    <tr>\n",
              "      <th>CUSTOMERNAME</th>\n",
              "      <th></th>\n",
              "      <th></th>\n",
              "      <th></th>\n",
              "      <th></th>\n",
              "      <th></th>\n",
              "      <th></th>\n",
              "      <th></th>\n",
              "      <th></th>\n",
              "      <th></th>\n",
              "    </tr>\n",
              "  </thead>\n",
              "  <tbody>\n",
              "    <tr>\n",
              "      <th>AV Stores, Co.</th>\n",
              "      <td>195</td>\n",
              "      <td>3</td>\n",
              "      <td>157807.81</td>\n",
              "      <td>3</td>\n",
              "      <td>3</td>\n",
              "      <td>1</td>\n",
              "      <td>7</td>\n",
              "      <td>B</td>\n",
              "      <td>1</td>\n",
              "    </tr>\n",
              "    <tr>\n",
              "      <th>Alpha Cognac</th>\n",
              "      <td>64</td>\n",
              "      <td>3</td>\n",
              "      <td>70488.44</td>\n",
              "      <td>1</td>\n",
              "      <td>3</td>\n",
              "      <td>3</td>\n",
              "      <td>7</td>\n",
              "      <td>B</td>\n",
              "      <td>1</td>\n",
              "    </tr>\n",
              "    <tr>\n",
              "      <th>Amica Models &amp; Co.</th>\n",
              "      <td>264</td>\n",
              "      <td>2</td>\n",
              "      <td>94117.26</td>\n",
              "      <td>4</td>\n",
              "      <td>4</td>\n",
              "      <td>2</td>\n",
              "      <td>10</td>\n",
              "      <td>C</td>\n",
              "      <td>0</td>\n",
              "    </tr>\n",
              "    <tr>\n",
              "      <th>Anna's Decorations, Ltd</th>\n",
              "      <td>83</td>\n",
              "      <td>4</td>\n",
              "      <td>153996.13</td>\n",
              "      <td>2</td>\n",
              "      <td>1</td>\n",
              "      <td>1</td>\n",
              "      <td>4</td>\n",
              "      <td>A</td>\n",
              "      <td>1</td>\n",
              "    </tr>\n",
              "    <tr>\n",
              "      <th>Atelier graphique</th>\n",
              "      <td>187</td>\n",
              "      <td>3</td>\n",
              "      <td>24179.96</td>\n",
              "      <td>3</td>\n",
              "      <td>3</td>\n",
              "      <td>4</td>\n",
              "      <td>10</td>\n",
              "      <td>C</td>\n",
              "      <td>0</td>\n",
              "    </tr>\n",
              "  </tbody>\n",
              "</table>\n",
              "</div>"
            ],
            "text/plain": [
              "                         recency  frequency  monetary_value  R_Quartile  \\\n",
              "CUSTOMERNAME                                                              \n",
              "AV Stores, Co.               195          3       157807.81           3   \n",
              "Alpha Cognac                  64          3        70488.44           1   \n",
              "Amica Models & Co.           264          2        94117.26           4   \n",
              "Anna's Decorations, Ltd       83          4       153996.13           2   \n",
              "Atelier graphique            187          3        24179.96           3   \n",
              "\n",
              "                         F_Quartile  M_Quartile  RFM_score customer_grade  \\\n",
              "CUSTOMERNAME                                                                \n",
              "AV Stores, Co.                    3           1          7              B   \n",
              "Alpha Cognac                      3           3          7              B   \n",
              "Amica Models & Co.                4           2         10              C   \n",
              "Anna's Decorations, Ltd           1           1          4              A   \n",
              "Atelier graphique                 3           4         10              C   \n",
              "\n",
              "                         Cluster  \n",
              "CUSTOMERNAME                      \n",
              "AV Stores, Co.                 1  \n",
              "Alpha Cognac                   1  \n",
              "Amica Models & Co.             0  \n",
              "Anna's Decorations, Ltd        1  \n",
              "Atelier graphique              0  "
            ]
          },
          "metadata": {
            "tags": []
          },
          "execution_count": 40
        }
      ]
    },
    {
      "cell_type": "markdown",
      "metadata": {
        "id": "Y8DEMmM7Xa6e"
      },
      "source": [
        "# Conclusions"
      ]
    },
    {
      "cell_type": "markdown",
      "metadata": {
        "id": "EPoho-b1Xcq6"
      },
      "source": [
        "There is beauty in simplicity. RFM's beauty is its ease of usability and interpratability. Once segmented, it is easy for anyone on the team to quickly and easily understand the segments of the customer base and take action. With more complex customer segmentation methods, we may get better granularity or use a wider range of features but lose some clarity in the understanding. \r\n",
        "\r\n",
        "No matter the segmentation method though, we see the value in grouping customers. It allows us to target each group with content specific to their needs. For some customers, we may simply need to make them feel appreciated for their loyalty. For others, we may need to offer incentives to visit more often and build up those habits that most benefit the company. And some, we may see as lost but still valuable and so we can add a personal touch and contact them directly to regain their business. Segmentation allows us to maximize sales and customer retention through personalized targeting."
      ]
    }
  ]
}